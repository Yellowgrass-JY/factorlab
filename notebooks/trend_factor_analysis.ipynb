{
 "cells": [
  {
   "cell_type": "markdown",
   "id": "11b5e808",
   "metadata": {},
   "source": [
    "# Trend Factor Analysis"
   ]
  },
  {
   "cell_type": "markdown",
   "id": "97486724",
   "metadata": {},
   "source": [
    "This notebook walks through a trend factor analysis, for both time series and cross-sectional strategies, in digital assets.\n",
    "\n",
    "We will construct various trend factors and compare their performance across a range of statistical tests and financial evaluation criteria.\n",
    "\n",
    "Trend following is a ubiquitous factor investing strategy and remains one of the best ways to capture convexity in cryptoassets."
   ]
  },
  {
   "cell_type": "markdown",
   "id": "64c4f944",
   "metadata": {},
   "source": [
    "To conduct this analysis, we will use **FactorLab**, an open-source python package we have created specifically for alpha and risk factor analysis. "
   ]
  },
  {
   "cell_type": "markdown",
   "id": "defc9aae",
   "metadata": {},
   "source": [
    "To install **FactorLab**:\n",
    "`pip install factorlab`"
   ]
  },
  {
   "cell_type": "code",
   "execution_count": 1,
   "id": "74bc95fc",
   "metadata": {},
   "outputs": [],
   "source": [
    "# uncomment to install factorlab\n",
    "# pip install factorlab"
   ]
  },
  {
   "cell_type": "code",
   "execution_count": 2,
   "id": "77d89e84",
   "metadata": {},
   "outputs": [],
   "source": [
    "import pandas as pd\n",
    "import numpy as np\n",
    "\n",
    "from cryptodatapy.extract.datarequest import DataRequest\n",
    "from cryptodatapy.extract.getdata import GetData\n",
    "from cryptodatapy.transform.clean import CleanData\n",
    "\n",
    "from factorlab.factors.trend import Trend\n",
    "from factorlab.feature_engineering.transform import Transform\n",
    "from factorlab.feature_analysis.factor_analysis import Factor\n",
    "from factorlab.feature_analysis.param_grid_search import *\n",
    "from factorlab.feature_analysis.time_series_analysis import linear_reg\n",
    "from factorlab.feature_analysis.performance import Performance\n",
    "from factorlab.data_viz.data_viz import plot_series, plot_bar, plot_table"
   ]
  },
  {
   "cell_type": "markdown",
   "id": "f7597522",
   "metadata": {},
   "source": [
    "## 1. Data "
   ]
  },
  {
   "cell_type": "markdown",
   "id": "2b87e8d1",
   "metadata": {},
   "source": [
    "To collect the necessary data for this analysis (perpetual futures, funding rates, spot prices, and aggregate spot prices), we use **CryptoDataPy**, an open source python library that makes it easy to build high quality data pipelines for the analysis of cryptoassets.\n",
    "\n",
    "With it, we can pull data from various exchanges and data vendors with ease, clean and stich it to create the longest possible price and total return series."
   ]
  },
  {
   "cell_type": "markdown",
   "id": "11f7d669",
   "metadata": {},
   "source": [
    "To install **CryptoDataPy**:\n",
    "`pip install cryptodatapy`"
   ]
  },
  {
   "cell_type": "code",
   "execution_count": 3,
   "id": "06ec84be",
   "metadata": {},
   "outputs": [],
   "source": [
    "# uncomment to install cryptodatapy\n",
    "# pip install cryptodatapy"
   ]
  },
  {
   "cell_type": "markdown",
   "id": "b2f12741",
   "metadata": {},
   "source": [
    "### 1.1 Collect Data\n",
    "\n",
    "- Funding rates and perptual futures OHLC prices from **Binance** futures exchange (2019-present)\n",
    "- OHLC spot prices from **Binance** spot exchange (2017-2019)\n",
    "- OHLC spot prices from **Cryptocompare** (2010-2017)"
   ]
  },
  {
   "cell_type": "markdown",
   "id": "be1e427d",
   "metadata": {},
   "source": [
    "#### Binance"
   ]
  },
  {
   "cell_type": "code",
   "execution_count": null,
   "id": "138d7343",
   "metadata": {},
   "outputs": [],
   "source": [
    "# get all Binance perp futures tickers\n",
    "data_req = DataRequest(source='ccxt')\n",
    "perp_tickers = GetData(data_req).get_meta(method='get_markets_info', exch='binanceusdm', as_list=True)"
   ]
  },
  {
   "cell_type": "code",
   "execution_count": null,
   "id": "30bb3daf",
   "metadata": {},
   "outputs": [],
   "source": [
    "# get Binance spot tickers\n",
    "data_req = DataRequest(source='ccxt')\n",
    "spot_tickers = GetData(data_req).get_meta(method='get_markets_info', exch='binance', as_list=True)"
   ]
  },
  {
   "cell_type": "code",
   "execution_count": null,
   "id": "7a499282",
   "metadata": {},
   "outputs": [],
   "source": [
    "# find intersecting tickers\n",
    "binance_tickers = [ticker for ticker in fut_tickers if ticker in spot_tickers]"
   ]
  },
  {
   "cell_type": "code",
   "execution_count": null,
   "id": "e4d9dfb6",
   "metadata": {},
   "outputs": [],
   "source": [
    "# number of tickers\n",
    "len(binance_tickers)"
   ]
  },
  {
   "cell_type": "markdown",
   "id": "049a3eac",
   "metadata": {},
   "source": [
    "#### Cryptocompare "
   ]
  },
  {
   "cell_type": "code",
   "execution_count": null,
   "id": "2a147a8a",
   "metadata": {},
   "outputs": [],
   "source": [
    "# get cryptocompare tickers\n",
    "data_req = DataRequest(source='cryptocompare')\n",
    "cc_tickers = GetData(data_req).get_meta(method='get_assets_info', as_list=True)"
   ]
  },
  {
   "cell_type": "code",
   "execution_count": null,
   "id": "cec8d0fd",
   "metadata": {},
   "outputs": [],
   "source": [
    "# keep only USDT ticker\n",
    "bin_tickers = []\n",
    "for ticker in binance_tickers:\n",
    "    if '/' in ticker and ticker.split('/')[1] == 'USDT':\n",
    "        bin_tickers.append(ticker.split('/')[0])"
   ]
  },
  {
   "cell_type": "code",
   "execution_count": null,
   "id": "3d299464",
   "metadata": {},
   "outputs": [],
   "source": [
    "# usdt tickers\n",
    "usdt_tickers = [ticker.split('/')[0] for ticker in binance_tickers if '/'in ticker and ticker.split('/')[1] == 'USDT']"
   ]
  },
  {
   "cell_type": "code",
   "execution_count": null,
   "id": "4656c947",
   "metadata": {},
   "outputs": [],
   "source": [
    "# intersecting tickers\n",
    "tickers = [ticker for ticker in usdt_tickers if ticker in cc_tickers]"
   ]
  },
  {
   "cell_type": "markdown",
   "id": "84796394",
   "metadata": {},
   "source": [
    "#### Perpetual Futures"
   ]
  },
  {
   "cell_type": "code",
   "execution_count": null,
   "id": "4d9c3772",
   "metadata": {},
   "outputs": [],
   "source": [
    "# pull daily OHLC and funding rates for perp futures on Binance USDM exchange\n",
    "data_req = DataRequest(source='ccxt',\n",
    "                       tickers=tickers, \n",
    "                       fields=['open', 'high', 'low', 'close', 'volume', 'funding_rate'], \n",
    "                       mkt_type='perpetual_future', \n",
    "                       freq='d')"
   ]
  },
  {
   "cell_type": "code",
   "execution_count": null,
   "id": "6cf9cfba",
   "metadata": {},
   "outputs": [],
   "source": [
    "df1 = GetData(data_req).get_series()"
   ]
  },
  {
   "cell_type": "code",
   "execution_count": null,
   "id": "64642c1a",
   "metadata": {},
   "outputs": [],
   "source": [
    "df1.head()"
   ]
  },
  {
   "cell_type": "code",
   "execution_count": null,
   "id": "e58fccf9",
   "metadata": {},
   "outputs": [],
   "source": [
    "df1.to_csv('factorlab/src/factorlab/datasets/data/binance_perp_fut_prices.csv')"
   ]
  },
  {
   "cell_type": "markdown",
   "id": "cb357f89",
   "metadata": {},
   "source": [
    "#### Spot Prices"
   ]
  },
  {
   "cell_type": "code",
   "execution_count": null,
   "id": "736a19a5",
   "metadata": {},
   "outputs": [],
   "source": [
    "# pull OHLC from Binance\n",
    "data_req = DataRequest(source='ccxt',\n",
    "                       tickers=tickers, \n",
    "                       fields=['open', 'high', 'low', 'close', 'volume'], \n",
    "                       freq='d')"
   ]
  },
  {
   "cell_type": "code",
   "execution_count": null,
   "id": "5caad689",
   "metadata": {},
   "outputs": [],
   "source": [
    "df2 = GetData(data_req).get_series()"
   ]
  },
  {
   "cell_type": "code",
   "execution_count": null,
   "id": "aa171a12",
   "metadata": {},
   "outputs": [],
   "source": [
    "df2.head()"
   ]
  },
  {
   "cell_type": "code",
   "execution_count": null,
   "id": "8fe64e48",
   "metadata": {},
   "outputs": [],
   "source": [
    "df2.to_csv('factorlab/src/factorlab/datasets/data/binance_spot_prices.csv')"
   ]
  },
  {
   "cell_type": "markdown",
   "id": "d2abeb34",
   "metadata": {},
   "source": [
    "#### Historical Spot"
   ]
  },
  {
   "cell_type": "code",
   "execution_count": null,
   "id": "c5f2577d",
   "metadata": {},
   "outputs": [],
   "source": [
    "# pull close and funding rates for agg spot data from CryptoCompare\n",
    "data_req = DataRequest(source='cryptocompare',\n",
    "                       tickers=tickers, \n",
    "                       fields=['open', 'high', 'low', 'close', 'volume'], \n",
    "                       freq='d')"
   ]
  },
  {
   "cell_type": "code",
   "execution_count": null,
   "id": "cd9d2b21",
   "metadata": {},
   "outputs": [],
   "source": [
    "df3 = GetData(data_req).get_series()"
   ]
  },
  {
   "cell_type": "code",
   "execution_count": null,
   "id": "4195ad1a",
   "metadata": {},
   "outputs": [],
   "source": [
    "df3.head()"
   ]
  },
  {
   "cell_type": "code",
   "execution_count": null,
   "id": "ffc07602",
   "metadata": {},
   "outputs": [],
   "source": [
    "df3.to_csv('factorlab/src/factorlab/datasets/data/cc_spot_prices.csv')"
   ]
  },
  {
   "cell_type": "code",
   "execution_count": null,
   "id": "40c14447",
   "metadata": {},
   "outputs": [],
   "source": [
    "# # pull csv perp futures prices\n",
    "# df1 = pd.read_csv('factorlab/src/factorlab/datasets/data/binance_perp_fut_prices.csv', \n",
    "#                   index_col=['date', 'ticker'],\n",
    "#                   parse_dates=True\n",
    "#                  )"
   ]
  },
  {
   "cell_type": "code",
   "execution_count": null,
   "id": "54df235c",
   "metadata": {},
   "outputs": [],
   "source": [
    "# # pull csv spot prices, binance\n",
    "# df2 = pd.read_csv('factorlab/src/factorlab/datasets/data/binance_spot_prices.csv', \n",
    "#                   index_col=['date', 'ticker'],\n",
    "#                   parse_dates=True\n",
    "#                  )"
   ]
  },
  {
   "cell_type": "code",
   "execution_count": null,
   "id": "b17ac96c",
   "metadata": {},
   "outputs": [],
   "source": [
    "# # pull csv spot prices, cryptocompare\n",
    "# df3 = pd.read_csv('factorlab/src/factorlab/datasets/data/cc_spot_prices.csv', \n",
    "#                   index_col=['date', 'ticker'],\n",
    "#                   parse_dates=True\n",
    "#                  )"
   ]
  },
  {
   "cell_type": "code",
   "execution_count": null,
   "id": "1c39718a",
   "metadata": {},
   "outputs": [],
   "source": [
    "# stich dfs to extend price time series\n",
    "df = df1.combine_first(df2).combine_first(df3)\n",
    "df = df[['open', 'high', 'low', 'close', 'volume', 'funding_rate']]\n",
    "df.funding_rate = df.funding_rate.fillna(0)"
   ]
  },
  {
   "cell_type": "markdown",
   "id": "5aef3605",
   "metadata": {},
   "source": [
    "##  1.2 Clean Data"
   ]
  },
  {
   "cell_type": "markdown",
   "id": "d5143ec1",
   "metadata": {},
   "source": [
    "Now, that we have all of our raw data, we can clean our data using the *CleanData* class in **CryptoDataPy** and chaining the following methods:\n",
    "\n",
    "- *Filter outliers* to remove outliers using interquantile range and a threshold.\n",
    "- *Repair outliers* and missing values using the IQR expected value.\n",
    "- *Filter average trading value* to reduce the trading universe to include only asset trading a minimum of daily dollar volume (1 mil USD).\n",
    "- *Remove missing values gaps* to drop the values of any series where sequential missing values are above some threshodl value."
   ]
  },
  {
   "cell_type": "code",
   "execution_count": null,
   "id": "5e621d4f",
   "metadata": {},
   "outputs": [],
   "source": [
    "# plot close series\n",
    "df.unstack().close.plot(subplots=True, sharex=False, figsize=(15,500));"
   ]
  },
  {
   "cell_type": "code",
   "execution_count": null,
   "id": "0c86f76f",
   "metadata": {},
   "outputs": [],
   "source": [
    "# drop tickers with nobs < ts_obs\n",
    "obs = df.groupby(level=1).count().min(axis=1)\n",
    "drop_tickers_list = obs[obs < 365].index.to_list()\n",
    "df = df.drop(drop_tickers_list, level=1, axis=0)\n",
    "\n",
    "# drop tickers with nobs < cs_obs\n",
    "obs = df.groupby(level=0).count().min(axis=1)\n",
    "idx_start = obs[obs > 3].index[0]\n",
    "df = df.unstack()[df.unstack().index > idx_start].stack()"
   ]
  },
  {
   "cell_type": "code",
   "execution_count": null,
   "id": "0110c517",
   "metadata": {},
   "outputs": [],
   "source": [
    "# # clean data, but do not include the funding rate data in the object since outliers tend to be correct values\n",
    "# clean_df = CleanData(df.drop(columns='funding_rate')).\\\n",
    "#                    filter_outliers(od_method='iqr', thresh_val=10).\\\n",
    "#                    repair_outliers(imp_method='fcst').\\\n",
    "#                    filter_avg_trading_val(thresh_val=1000000).\\\n",
    "#                    filter_min_nobs(ts_obs=365, cs_obs=3).\\\n",
    "#                    filter_missing_vals_gaps(gap_window=30).get(attr='df')"
   ]
  },
  {
   "cell_type": "code",
   "execution_count": null,
   "id": "8019915e",
   "metadata": {},
   "outputs": [],
   "source": [
    "# # concat funding rate data\n",
    "# clean_df = pd.concat([clean_df, df[['volume', 'funding_rate']]], axis=1).dropna()"
   ]
  },
  {
   "cell_type": "code",
   "execution_count": null,
   "id": "d59d9c14",
   "metadata": {},
   "outputs": [],
   "source": [
    "# clean_df.tail()"
   ]
  },
  {
   "cell_type": "code",
   "execution_count": null,
   "id": "dd9d564f",
   "metadata": {},
   "outputs": [],
   "source": [
    "# number of assets\n",
    "len(list(df.index.droplevel(0).unique()))"
   ]
  },
  {
   "cell_type": "code",
   "execution_count": null,
   "id": "24e00651",
   "metadata": {},
   "outputs": [],
   "source": [
    "# # plot data\n",
    "# clean_df.unstack().close.plot(subplots=True, sharex=False, figsize=(15,250));"
   ]
  },
  {
   "cell_type": "markdown",
   "id": "e0bf00ea",
   "metadata": {},
   "source": [
    "## 1- Factor and Target Construction"
   ]
  },
  {
   "cell_type": "code",
   "execution_count": null,
   "id": "bacfd3b2",
   "metadata": {},
   "outputs": [],
   "source": [
    "# create ohlc df\n",
    "ohlc = df[['open', 'high', 'low', 'close']].copy()"
   ]
  },
  {
   "cell_type": "markdown",
   "id": "6ee53d2f",
   "metadata": {},
   "source": [
    "### 1.1 - Create Targets\n",
    "Create log return and forward return target variables."
   ]
  },
  {
   "cell_type": "code",
   "execution_count": null,
   "id": "bfc734bb",
   "metadata": {},
   "outputs": [],
   "source": [
    "# compute total returns\n",
    "ret_df = pd.concat([Transform(df.loc[:,:'close']).returns(), df[['volume', 'funding_rate']]], join='inner', axis=1)\n",
    "tr_df = ret_df.loc[:,:'close'].subtract(ret_df.funding_rate, axis=0)\n",
    "tr_df = pd.concat([tr_df, df[['volume', 'funding_rate']]], join='inner', axis=1)"
   ]
  },
  {
   "cell_type": "code",
   "execution_count": null,
   "id": "b2ae6e51",
   "metadata": {},
   "outputs": [],
   "source": [
    "# compute forward returns\n",
    "fwd_spot_ret = Transform(df.close).returns(lags=1, forward=True).close.to_frame('fwd_ret_1')\n",
    "fwd_spot_ret['fwd_ret_5'] = Transform(df.close).returns(lags=5, forward=True)\n",
    "fwd_spot_ret['fwd_ret_7'] = Transform(df.close).returns(lags=7, forward=True)\n",
    "fwd_spot_ret['fwd_ret_10'] = Transform(df.close).returns(lags=10, forward=True)\n",
    "fwd_spot_ret['fwd_ret_14'] = Transform(df.close).returns(lags=14, forward=True)\n",
    "fwd_spot_ret['fwd_ret_20'] = Transform(df.close).returns(lags=20, forward=True)\n",
    "fwd_spot_ret['fwd_ret_30'] = Transform(df.close).returns(lags=30, forward=True)\n",
    "fwd_spot_ret['fwd_ret_60'] = Transform(df.close).returns(lags=60, forward=True)\n",
    "fwd_spot_ret['fwd_ret_90'] = Transform(df.close).returns(lags=90, forward=True)\n",
    "fwd_spot_ret['fwd_ret_180'] = Transform(df.close).returns(lags=180, forward=True)\n",
    "fwd_spot_ret['fwd_ret_365'] = Transform(df.close).returns(lags=365, forward=True)"
   ]
  },
  {
   "cell_type": "code",
   "execution_count": null,
   "id": "bd130e6d",
   "metadata": {},
   "outputs": [],
   "source": [
    "# normalize fwd rets\n",
    "fwd_ret_norm = Transform(fwd_spot_ret).normalize_ts(window_type='expanding')"
   ]
  },
  {
   "cell_type": "code",
   "execution_count": null,
   "id": "f5b960e8",
   "metadata": {},
   "outputs": [],
   "source": [
    "# compute fwd relative returns\n",
    "fwd_rel_ret = fwd_spot_ret.copy()\n",
    "for col in fwd_rel_ret.columns:\n",
    "    fwd_rel_ret[col] = fwd_spot_ret[col] - fwd_spot_ret[col].groupby('date').mean()"
   ]
  },
  {
   "cell_type": "code",
   "execution_count": null,
   "id": "f3038467",
   "metadata": {},
   "outputs": [],
   "source": [
    "# mkt portfolio returns\n",
    "mkt_ret = ret_df.close.groupby('date').mean().to_frame('mkt_ret')"
   ]
  },
  {
   "cell_type": "markdown",
   "id": "4f817cb0",
   "metadata": {},
   "source": [
    "### 1.2. Compute Trend Factors\n",
    "\n",
    "- We compute ~ a dozen trend factors across which we will compare performance."
   ]
  },
  {
   "cell_type": "code",
   "execution_count": null,
   "id": "036ff0e8",
   "metadata": {},
   "outputs": [],
   "source": [
    "# trend factors\n",
    "# price mom\n",
    "trend_df = Trend(ohlc, vwap=True, log=True, lookback=5).price_mom().rename(columns={\"vwap\": \"price_mom_5\"})\n",
    "trend_df['price_mom_10'] = Trend(ohlc, vwap=True, log=True, lookback=10).price_mom()\n",
    "trend_df['price_mom_15'] = Trend(ohlc, vwap=True, log=True, lookback=15).price_mom()\n",
    "trend_df['price_mom_30'] = Trend(ohlc, vwap=True, log=True, lookback=30).price_mom()\n",
    "trend_df['price_mom_45'] = Trend(ohlc, vwap=True, log=True, lookback=45).price_mom()\n",
    "trend_df['price_mom_90'] = Trend(ohlc, vwap=True, log=True, lookback=90).price_mom()\n",
    "trend_df['price_mom_180'] = Trend(ohlc, vwap=True, log=True, lookback=180).price_mom()\n",
    "trend_df['price_mom_365'] = Trend(ohlc, vwap=True, log=True, lookback=365).price_mom()\n",
    "# moving window diff\n",
    "trend_df['mw_diff_5'] = Trend(ohlc, vwap=True, log=True, lookback=5, smoothing='ewm').mw_diff()\n",
    "trend_df['mw_diff_10'] = Trend(ohlc, vwap=True, log=True, lookback=10, smoothing='ewm').mw_diff()\n",
    "trend_df['mw_diff_15'] = Trend(ohlc, vwap=True, log=True, lookback=15, smoothing='ewm').mw_diff()\n",
    "trend_df['mw_diff_30'] = Trend(ohlc, vwap=True, log=True, lookback=30, smoothing='ewm').mw_diff()\n",
    "trend_df['mw_diff_45'] = Trend(ohlc, vwap=True, log=True, lookback=45, smoothing='ewm').mw_diff()\n",
    "trend_df['mw_diff_90'] = Trend(ohlc, vwap=True, log=True, lookback=90, smoothing='ewm').mw_diff()\n",
    "trend_df['mw_diff_180'] = Trend(ohlc, vwap=True, log=True, lookback=180, smoothing='ewm').mw_diff()\n",
    "trend_df['mw_diff_365'] = Trend(ohlc, vwap=True, log=True, lookback=365, smoothing='ewm').mw_diff()\n",
    "# divergence\n",
    "trend_df['divergence_5'] = Trend(ohlc, vwap=True, log=True, lookback=5, smoothing='ewm').divergence()\n",
    "trend_df['divergence_10'] = Trend(ohlc, vwap=True, log=True, lookback=10, smoothing='ewm').divergence()\n",
    "trend_df['divergence_15'] = Trend(ohlc, vwap=True, log=True, lookback=15, smoothing='ewm').divergence()\n",
    "trend_df['divergence_30'] = Trend(ohlc, vwap=True, log=True, lookback=30, smoothing='ewm').divergence()\n",
    "trend_df['divergence_45'] = Trend(ohlc, vwap=True, log=True, lookback=45, smoothing='ewm').divergence()\n",
    "trend_df['divergence_90'] = Trend(ohlc, vwap=True, log=True, lookback=90, smoothing='ewm').divergence()\n",
    "trend_df['divergence_180'] = Trend(ohlc, vwap=True, log=True, lookback=180, smoothing='ewm').divergence()\n",
    "trend_df['divergence_365'] = Trend(ohlc, vwap=True, log=True, lookback=365, smoothing='ewm').divergence()\n",
    "# exp weighted mov avg crossover\n",
    "trend_df['ewma_xover_2'] = Trend(ohlc, vwap=True, log=True,).ewma_wxover(s_k=[2, 4, 8], l_k=[6, 12, 24], signal=True)\n",
    "trend_df['ewma_xover_3'] = Trend(ohlc, vwap=True, log=True,).ewma_wxover(s_k=[3, 6, 12], l_k=[9, 18, 36], signal=True)\n",
    "trend_df['ewma_xover_4'] = Trend(ohlc, vwap=True, log=True,).ewma_wxover(s_k=[4, 8, 16], l_k=[12, 24, 48], signal=True)\n",
    "trend_df['ewma_xover_5'] = Trend(ohlc, vwap=True, log=True,).ewma_wxover(s_k=[5, 10, 20], l_k=[15, 30, 60], signal=True)\n",
    "trend_df['ewma_xover_6'] = Trend(ohlc, vwap=True, log=True,).ewma_wxover(s_k=[6, 12, 24], l_k=[18, 36, 72], signal=True)\n",
    "trend_df['ewma_xover_7'] = Trend(ohlc, vwap=True, log=True,).ewma_wxover(s_k=[7, 14, 28], l_k=[21, 42, 84], signal=True)\n",
    "trend_df['ewma_xover_ahl'] = Trend(ohlc, vwap=True, log=True,).ewma_wxover(s_k=[8, 16, 32], l_k=[24, 48, 96], signal=True)\n",
    "# rsi\n",
    "trend_df['rsi_5'] = Trend(ohlc, vwap=True, log=True, smoothing='ewm', lookback=5).rsi()\n",
    "trend_df['rsi_10'] = Trend(ohlc, vwap=True, log=True, smoothing='ewm', lookback=10).rsi()\n",
    "trend_df['rsi_15'] = Trend(ohlc, vwap=True, log=True, smoothing='ewm', lookback=15).rsi()\n",
    "trend_df['rsi_30'] = Trend(ohlc, vwap=True, log=True, smoothing='ewm', lookback=30).rsi()\n",
    "trend_df['rsi_45'] = Trend(ohlc, vwap=True, log=True, smoothing='ewm', lookback=45).rsi()\n",
    "trend_df['rsi_90'] = Trend(ohlc, vwap=True, log=True, smoothing='ewm', lookback=90).rsi()\n",
    "trend_df['rsi_180'] = Trend(ohlc, vwap=True, log=True, smoothing='ewm', lookback=180).rsi()\n",
    "trend_df['rsi_365'] = Trend(ohlc, vwap=True, log=True, smoothing='ewm', lookback=365).rsi()\n",
    "# stochastic\n",
    "trend_df['stoch_5'] = Trend(ohlc, vwap=True, log=True, smoothing='ewm', lookback=5).stochastic()\n",
    "trend_df['stoch_10'] = Trend(ohlc, vwap=True, log=True, smoothing='ewm', lookback=10).stochastic()\n",
    "trend_df['stoch_15'] = Trend(ohlc, vwap=True, log=True, smoothing='ewm', lookback=15).stochastic()\n",
    "trend_df['stoch_30'] = Trend(ohlc, vwap=True, log=True, smoothing='ewm', lookback=30).stochastic()\n",
    "trend_df['stoch_45'] = Trend(ohlc, vwap=True, log=True, smoothing='ewm', lookback=45).stochastic()\n",
    "trend_df['stoch_90'] = Trend(ohlc, vwap=True, log=True, smoothing='ewm', lookback=90).stochastic()\n",
    "trend_df['stoch_180'] = Trend(ohlc, vwap=True, log=True, smoothing='ewm', lookback=180).stochastic()\n",
    "trend_df['stoch_365'] = Trend(ohlc, vwap=True, log=True, smoothing='ewm', lookback=365).stochastic()\n",
    "# intensity\n",
    "trend_df['intensity_5'] = Trend(ohlc, vwap=True, log=True, smoothing='ewm', lookback=5).intensity()\n",
    "trend_df['intensity_10'] = Trend(ohlc, vwap=True, log=True, smoothing='ewm', lookback=10).intensity()\n",
    "trend_df['intensity_15'] = Trend(ohlc, vwap=True, log=True, smoothing='ewm', lookback=15).intensity()\n",
    "trend_df['intensity_30'] = Trend(ohlc, vwap=True, log=True, smoothing='ewm', lookback=30).intensity()\n",
    "trend_df['intensity_45'] = Trend(ohlc, vwap=True, log=True, smoothing='ewm', lookback=45).intensity()\n",
    "trend_df['intensity_90'] = Trend(ohlc, vwap=True, log=True, smoothing='ewm', lookback=90).intensity()\n",
    "trend_df['intensity_180'] = Trend(ohlc, vwap=True, log=True, smoothing='ewm', lookback=180).intensity()\n",
    "trend_df['intensity_365'] = Trend(ohlc, vwap=True, log=True, smoothing='ewm', lookback=365).intensity()\n",
    "# time trend\n",
    "trend_df['time_trend_5'] = Trend(ohlc, vwap=True, log=True, lookback=5).time_trend()\n",
    "trend_df['time_trend_10'] = Trend(ohlc, vwap=True, log=True, lookback=10).time_trend()\n",
    "trend_df['time_trend_15'] = Trend(ohlc, vwap=True, log=True, lookback=15).time_trend()\n",
    "trend_df['time_trend_30'] = Trend(ohlc, vwap=True, log=True, lookback=30).time_trend()\n",
    "trend_df['time_trend_45'] = Trend(ohlc, vwap=True, log=True, lookback=45).time_trend()\n",
    "trend_df['time_trend_90'] = Trend(ohlc, vwap=True, log=True, lookback=90).time_trend()\n",
    "trend_df['time_trend_180'] = Trend(ohlc, vwap=True, log=True, lookback=180).time_trend()\n",
    "trend_df['time_trend_365'] = Trend(ohlc, vwap=True, log=True, lookback=365).time_trend()\n",
    "# alpha mom\n",
    "trend_df['alpha_mom_5'] = Trend(ohlc, vwap=True, log=True, lookback=5).alpha_mom()\n",
    "trend_df['alpha_mom_10'] = Trend(ohlc, vwap=True, log=True, lookback=10).alpha_mom()\n",
    "trend_df['alpha_mom_15'] = Trend(ohlc, vwap=True, log=True, lookback=15).alpha_mom()\n",
    "trend_df['alpha_mom_30'] = Trend(ohlc, vwap=True, log=True, lookback=30).alpha_mom()\n",
    "trend_df['alpha_mom_45'] = Trend(ohlc, vwap=True, log=True, lookback=45).alpha_mom()\n",
    "trend_df['alpha_mom_90'] = Trend(ohlc, vwap=True, log=True, lookback=90).alpha_mom()\n",
    "trend_df['alpha_mom_180'] = Trend(ohlc, vwap=True, log=True, lookback=180).alpha_mom()\n",
    "trend_df['alpha_mom_365'] = Trend(ohlc, vwap=True, log=True, lookback=365).alpha_mom()"
   ]
  },
  {
   "cell_type": "code",
   "execution_count": null,
   "id": "df0a9561",
   "metadata": {},
   "outputs": [],
   "source": [
    "# normalize trend factors\n",
    "trend_z_df = Transform(trend_df).normalize_ts(window_type='expanding')"
   ]
  },
  {
   "cell_type": "markdown",
   "id": "414fe5dc",
   "metadata": {},
   "source": [
    "# Factor Analysis"
   ]
  },
  {
   "cell_type": "markdown",
   "id": "0cfc0a53",
   "metadata": {},
   "source": [
    "## 1- Statistical Tests\n",
    "\n",
    "Statistical tests allow us to assess the strenght of the relationship between the alpha factors (features) and foward returns (target variable)."
   ]
  },
  {
   "cell_type": "markdown",
   "id": "eac3b23e",
   "metadata": {},
   "source": [
    "\n",
    "### 1.1. Historical Correlation and Association Measures\n",
    "Correlation measures, e.g. spearman rank correlation (aka information coefficient), and association measures, e.g. mutul information, allow us to evaluate the predictive relationship between an alpha factors and forward returns. \n",
    "- The `strategy` parameter in the `filter` method can be set to either \"ts\" or \"cs\" for either time series or cross-sectional strategies."
   ]
  },
  {
   "cell_type": "code",
   "execution_count": null,
   "id": "97dedcba",
   "metadata": {},
   "outputs": [],
   "source": [
    "# compute stats for time series strategies\n",
    "Factor(trend_df, fwd_ret_norm.fwd_ret_1, strategy='ts', factor_bins=5, target_bins=3, window_type='fixed').filter(rank_on='spearman_r')"
   ]
  },
  {
   "cell_type": "code",
   "execution_count": null,
   "id": "d91fe5dd",
   "metadata": {},
   "outputs": [],
   "source": [
    "# compute stats for cross-sectional carry strategies \n",
    "Factor(trend_df, fwd_ret_norm.fwd_ret_1, strategy='cs', factor_bins=5, target_bins=3, window_type='fixed').filter(rank_on='spearman_r')"
   ]
  },
  {
   "cell_type": "markdown",
   "id": "baad510b",
   "metadata": {},
   "source": [
    "### 1.2 - Moving Window IC\n",
    "The information coefficient (or spearman rank correlation) can be computed over a rolling window to allow us to see the change in predictive relationship between the factors and forward returns.\n"
   ]
  },
  {
   "cell_type": "code",
   "execution_count": null,
   "id": "8ba708c9",
   "metadata": {},
   "outputs": [],
   "source": [
    "# IC rolling window for time series strategy\n",
    "ic_ts_df = Factor(trend_df, ret_df.close, strategy='ts_ls', window_size=365).ic(factor='price_mom_30')"
   ]
  },
  {
   "cell_type": "code",
   "execution_count": null,
   "id": "f98bd0e7",
   "metadata": {},
   "outputs": [],
   "source": [
    "plot_series(ic_ts_df.dropna(), \n",
    "            title='Information Coefficient',\n",
    "            subtitle='Time series, 365 day rolling window'\n",
    "           )"
   ]
  },
  {
   "cell_type": "code",
   "execution_count": null,
   "id": "d7eee0b3",
   "metadata": {},
   "outputs": [],
   "source": [
    "# IC rolling window for time series strategy\n",
    "ic_cs_df = Factor(trend_df, ret_df.close, strategy='cs_ls', window_size=365).ic(factor='price_mom_30')"
   ]
  },
  {
   "cell_type": "code",
   "execution_count": null,
   "id": "55ea51ea",
   "metadata": {},
   "outputs": [],
   "source": [
    "plot_series(ic_cs_df.dropna(), \n",
    "            title='Information Coefficient',\n",
    "            subtitle='Cross-sectional, 365 day rolling window'\n",
    "           )"
   ]
  },
  {
   "cell_type": "markdown",
   "id": "977b2b73",
   "metadata": {},
   "source": [
    "### 1.3 - Regression\n",
    "We can regress factors on forward returns (normalized) to assess their economic and statistical significance.\n"
   ]
  },
  {
   "cell_type": "code",
   "execution_count": null,
   "id": "fbcf8c9c",
   "metadata": {},
   "outputs": [],
   "source": [
    "# pooled regression for time series \n",
    "Factor(trend_z_df, fwd_ret_norm.fwd_ret_7, strategy='ts').regression(method='pooled')"
   ]
  },
  {
   "cell_type": "code",
   "execution_count": null,
   "id": "af3ec0d9",
   "metadata": {},
   "outputs": [],
   "source": [
    "# cross sectional fama-macbeth\n",
    "Factor(trend_z_df, fwd_ret_norm.fwd_ret_7, strategy='cs').regression(method='fama-macbeth')"
   ]
  },
  {
   "cell_type": "markdown",
   "id": "aa68d7b5",
   "metadata": {},
   "source": [
    "## 2- Factor Returns\n",
    "Factor returns (net of t-cost estimate) provide a measure of factor performance. \n",
    "- The `strategy` parameter in the factor returns function allows you to explore factor returns for both long-only '_l' and long/short strategies '_ls', for either time series 'ts' or cross-sectional 'cs' implementations. \n",
    "- The `tails` parameter allows you to keep only factor values in the tails of the distribution and ignore the rest. Often, the most predictive information is contained in the tails."
   ]
  },
  {
   "cell_type": "markdown",
   "id": "a042f852",
   "metadata": {},
   "source": [
    "### 2.1 - Time Series"
   ]
  },
  {
   "cell_type": "code",
   "execution_count": null,
   "id": "d6664d8d",
   "metadata": {},
   "outputs": [],
   "source": [
    "# ts trend returns\n",
    "trend_ts_ret = Factor(trend_df.loc['2016-01-01':], tr_df.close, strategy='ts_ls', factor_bins=3).returns(signal_type='signal')"
   ]
  },
  {
   "cell_type": "code",
   "execution_count": null,
   "id": "9ff6e6d3",
   "metadata": {},
   "outputs": [],
   "source": [
    "trend_ts_perf_table = Performance(trend_ts_ret, mkt_ret=mkt_ret, ret_type='log').table(metrics='all', rank_on='Sharpe ratio').iloc[:20]"
   ]
  },
  {
   "cell_type": "code",
   "execution_count": null,
   "id": "52e6d702",
   "metadata": {},
   "outputs": [],
   "source": [
    "trend_ts_perf_table"
   ]
  },
  {
   "cell_type": "code",
   "execution_count": null,
   "id": "8b3f575e",
   "metadata": {},
   "outputs": [],
   "source": [
    "Performance(trend_ts_ret, mkt_ret=mkt_ret, ret_type='log').plot_metric()"
   ]
  },
  {
   "cell_type": "markdown",
   "id": "2ab17a67",
   "metadata": {},
   "source": [
    "### 2.2 - Cross-Sectional\n",
    "Cross-sectional strategies sorts assets in the cross-sectiona into equal-weighted portfolios based on their factor values. Weights to each portfolio can be scaled by on the portfolios rank (e.g. 1 for the assets in the top quintile of factor values, 0.5 for the 2nd quintile, etc) or top vs. bottom ranking are given values of 1 and -1."
   ]
  },
  {
   "cell_type": "code",
   "execution_count": null,
   "id": "9df11081",
   "metadata": {},
   "outputs": [],
   "source": [
    "# cs trend returns\n",
    "trend_cs_ret = Factor(trend_df.loc['2016-01-01':], tr_df.close, strategy='cs_ls', factor_bins=5).returns(signal_type='signal_quantiles', tails='two', rebalancing=7, t_cost=0.0025, weighting='ew')"
   ]
  },
  {
   "cell_type": "code",
   "execution_count": null,
   "id": "d860f377",
   "metadata": {},
   "outputs": [],
   "source": [
    "trend_cs_perf_table = Performance(trend_cs_ret, mkt_ret=mkt_ret, ret_type='log').table(metrics='all', rank_on='Sharpe ratio').iloc[:20]"
   ]
  },
  {
   "cell_type": "code",
   "execution_count": null,
   "id": "fafe716f",
   "metadata": {},
   "outputs": [],
   "source": [
    "trend_cs_perf_table"
   ]
  },
  {
   "cell_type": "code",
   "execution_count": null,
   "id": "6182e707",
   "metadata": {},
   "outputs": [],
   "source": [
    "Performance(trend_cs_ret, mkt_ret=mkt_ret, ret_type='log').plot_metric()"
   ]
  },
  {
   "cell_type": "markdown",
   "id": "44a5a522",
   "metadata": {},
   "source": [
    "## 3- Quantile Returns\n",
    "Factor quantile returns provide a measure of alpha factor performance. \n",
    "\n",
    "We can use the ```quantiles``` method to analyze returns across bins/quantiles in order to assess the robustness of the alpha factor. Returns which increase monotonically with quantiles are likely to be more reliable that those with positive but non-monotonic relationships.\n",
    "\n",
    "- The `factor` parameter in the quantile method allows us to select the factor for which to create quantiles. \n",
    "- The `metric` parameter allows us to compute a specific metrics from the ```Performance``` class. Here we use the default 'ret' value for returns.\n",
    "- The ```rebalancing``` parameter allows us to modify the rebalancing frequency for the strategy. This value defaults to 1, meaning changing with each period/frequency. We select '7' for weekly rebalancing with daily data frequency."
   ]
  },
  {
   "cell_type": "markdown",
   "id": "abd5811f",
   "metadata": {},
   "source": [
    "### Time Series Strategy"
   ]
  },
  {
   "cell_type": "code",
   "execution_count": null,
   "id": "1148c492",
   "metadata": {},
   "outputs": [],
   "source": [
    "trend_ts_quantile_ret = Factor(trend_df.loc['2016-01-01':], tr_df.close, strategy='ts_ls', factor_bins=3).quantiles(factor=trend_ts_perf_table.iloc[0].name, metric='ret', rebalancing=7)"
   ]
  },
  {
   "cell_type": "code",
   "execution_count": null,
   "id": "bea85af1",
   "metadata": {},
   "outputs": [],
   "source": [
    "plot_series(trend_ts_quantile_ret.cumsum(),\n",
    "            title=\"Time Series Trend Strategy\",\n",
    "            subtitle=f\"Factor: {trend_ts_perf_table.iloc[0].name}\",\n",
    "            y_label='Cumulative Log Returns'\n",
    "           )"
   ]
  },
  {
   "cell_type": "code",
   "execution_count": null,
   "id": "cef79aa8",
   "metadata": {},
   "outputs": [],
   "source": [
    "trend_ts_quantile_ann_ret = Factor(trend_df.loc['2016-01-01':], tr_df.close, strategy='ts_ls', factor_bins=3).quantiles(factor=trend_ts_perf_table.iloc[0].name, metric='ann_ret', rebalancing=7)"
   ]
  },
  {
   "cell_type": "code",
   "execution_count": null,
   "id": "cdca31b5",
   "metadata": {},
   "outputs": [],
   "source": [
    "plot_bar(trend_ts_quantile_ann_ret,\n",
    "            title=\"Time Series Trend Strategy\",\n",
    "            subtitle=f\"Factor: {trend_ts_perf_table.iloc[0].name}\",\n",
    "            y_label='Annual Returns'\n",
    "           )"
   ]
  },
  {
   "cell_type": "code",
   "execution_count": null,
   "id": "0e2de799",
   "metadata": {},
   "outputs": [],
   "source": [
    "trend_ts_quantile_vol = Factor(trend_df.loc['2016-01-01':], tr_df.close, strategy='ts_ls', factor_bins=3).quantiles(factor=trend_ts_perf_table.iloc[0].name, metric='ann_vol', rebalancing=7)"
   ]
  },
  {
   "cell_type": "code",
   "execution_count": null,
   "id": "8b496d02",
   "metadata": {},
   "outputs": [],
   "source": [
    "plot_bar(trend_ts_quantile_vol,\n",
    "            title=\"Time Series Trend Strategy\",\n",
    "            subtitle=f\"Factor: {trend_ts_perf_table.iloc[0].name}\",\n",
    "            y_label='Annual Volatility'\n",
    "        )"
   ]
  },
  {
   "cell_type": "code",
   "execution_count": null,
   "id": "814980cc",
   "metadata": {},
   "outputs": [],
   "source": [
    "trend_ts_quantile_sr = Factor(trend_df.loc['2016-01-01':], tr_df.close, strategy='ts_ls', factor_bins=3).quantiles(factor=trend_ts_perf_table.iloc[0].name, metric='sharpe_ratio', rebalancing=7)"
   ]
  },
  {
   "cell_type": "code",
   "execution_count": null,
   "id": "0ce2a1db",
   "metadata": {},
   "outputs": [],
   "source": [
    "plot_bar(trend_ts_quantile_sr,\n",
    "            title=\"Time Series Trend Strategy\",\n",
    "            subtitle=f\"Factor: {trend_ts_perf_table.iloc[0].name}\",\n",
    "            y_label='Sharpe Ratio'\n",
    "        )"
   ]
  },
  {
   "cell_type": "markdown",
   "id": "d8d19767",
   "metadata": {},
   "source": [
    "### Cross-sectional Strategy"
   ]
  },
  {
   "cell_type": "code",
   "execution_count": null,
   "id": "51e3e64e",
   "metadata": {},
   "outputs": [],
   "source": [
    "trend_cs_quantile_ret = Factor(trend_df.loc['2016-01-01':], tr_df.close, strategy='cs_ls', factor_bins=5).quantiles(factor=trend_cs_perf_table.iloc[0].name, metric='ret', rebalancing=7)"
   ]
  },
  {
   "cell_type": "code",
   "execution_count": null,
   "id": "d7e6adef",
   "metadata": {},
   "outputs": [],
   "source": [
    "plot_series(trend_cs_quantile_ret.cumsum(),\n",
    "            title=\"Cross-sectional Trend Strategy\",\n",
    "            subtitle=f\"Factor: {trend_cs_perf_table.iloc[0].name}\",\n",
    "            y_label='Log of Cumulative Returns'\n",
    "           )"
   ]
  },
  {
   "cell_type": "code",
   "execution_count": null,
   "id": "8c40479b",
   "metadata": {},
   "outputs": [],
   "source": [
    "trend_cs_quantile_ann_ret = Factor(trend_df.loc['2016-01-01':], tr_df.close, strategy='cs_ls', factor_bins=5).quantiles(factor=trend_cs_perf_table.iloc[0].name, metric='ann_ret', rebalancing=7)"
   ]
  },
  {
   "cell_type": "code",
   "execution_count": null,
   "id": "817291f3",
   "metadata": {},
   "outputs": [],
   "source": [
    "plot_bar(trend_cs_quantile_ann_ret,\n",
    "            title=\"Cross-sectional Trend Strategy\",\n",
    "            subtitle=f\"Factor: {trend_cs_perf_table.iloc[0].name}\",\n",
    "            y_label='Annual Returns'\n",
    "           )"
   ]
  },
  {
   "cell_type": "code",
   "execution_count": null,
   "id": "357fa2dc",
   "metadata": {},
   "outputs": [],
   "source": [
    "trend_cs_quantile_vol = Factor(trend_df.loc['2016-01-01':], tr_df.close, strategy='cs_ls', factor_bins=5).quantiles(factor=trend_cs_perf_table.iloc[0].name, metric='ann_vol', rebalancing=7)"
   ]
  },
  {
   "cell_type": "code",
   "execution_count": null,
   "id": "dc4fcdb4",
   "metadata": {},
   "outputs": [],
   "source": [
    "plot_bar(trend_cs_quantile_vol,\n",
    "            title=\"Cross-sectional Trend Strategy\",\n",
    "            subtitle=f\"Factor: {trend_cs_perf_table.iloc[0].name}\",\n",
    "            y_label='Annual Volatility'\n",
    "        )"
   ]
  },
  {
   "cell_type": "code",
   "execution_count": null,
   "id": "f4fabd51",
   "metadata": {},
   "outputs": [],
   "source": [
    "trend_cs_quantile_sr = Factor(trend_df.loc['2016-01-01':], tr_df.close, strategy='cs_ls', factor_bins=5).quantiles(factor=trend_cs_perf_table.iloc[0].name, metric='sharpe_ratio', rebalancing=7)"
   ]
  },
  {
   "cell_type": "code",
   "execution_count": null,
   "id": "06040920",
   "metadata": {},
   "outputs": [],
   "source": [
    "plot_bar(trend_cs_quantile_sr,\n",
    "            title=\"Cross-sectional Trend Strategy\",\n",
    "            subtitle=f\"Factor: {trend_cs_perf_table.iloc[0].name}\",\n",
    "            y_label='Sharpe Ratio'\n",
    "        )"
   ]
  },
  {
   "cell_type": "markdown",
   "id": "1f02c876",
   "metadata": {},
   "source": [
    "## 4- Factor Robustness"
   ]
  },
  {
   "cell_type": "markdown",
   "id": "7ec12cb8",
   "metadata": {},
   "source": [
    "A robust factor should produce positive returns regardless of changes in construction methodology, inputs and parameter values. One way of assessing the robustness of a factor is to examine how returns change across various implementations, inputs, parameters and sample periods. This can be done as part with the ```factor_param_grid_search``` function:\n",
    "- The ```feat_args``` parameters allows us to vary all of the attributes that are used to compute all factors with the ```Trend``` class.\n",
    "- The ```algo_args``` parameters allow us to vary all of the arguments used by the methods which compute specific trend algorithms, e.g. ```price_mom``` or ```time_trend```."
   ]
  },
  {
   "cell_type": "markdown",
   "id": "8f9682b5",
   "metadata": {},
   "source": [
    "### 4.1 Factor Parameter Grid Search"
   ]
  },
  {
   "cell_type": "markdown",
   "id": "dcc8aac8",
   "metadata": {},
   "source": [
    "#### Time Series\n",
    "We explore the parameter space for the best performing time series trend strategy."
   ]
  },
  {
   "cell_type": "code",
   "execution_count": null,
   "id": "a50e40ff",
   "metadata": {},
   "outputs": [],
   "source": [
    "metrics_df = factor_param_grid_search(df, tr_df.close, Trend, 'stochastic', metric='sharpe_ratio',\n",
    "                                             feat_args={\n",
    "                                                 'smoothing': ['smw', 'ewm', 'median'],\n",
    "                                                 'lookback': [5, 10, 15, 30, 60, 90, 120, 180, 365],\n",
    "                                             },\n",
    "                                             algo_args={'stochastic': ['k', 'd'],\n",
    "                                                        'signal': [True, False],\n",
    "                                                        },\n",
    "                                             factor_args={'strategy': 'ts_ls'},\n",
    "                                             ret_args={'signal_type': 'signal', 'rebalancing': 7, \n",
    "                                                       't_cost': 0.0025, 'weighting': 'ew'}\n",
    "                                             )"
   ]
  },
  {
   "cell_type": "code",
   "execution_count": null,
   "id": "0756974c",
   "metadata": {},
   "outputs": [],
   "source": [
    "param_matrix = param_heatmap(metrics_df.dropna(), \n",
    "                             metric='sharpe_ratio', \n",
    "                             fixed_params={'signal': True, 'smoothing': 'ewm'}, \n",
    "                             plot_params=['stochastic', 'lookback']\n",
    "                            )"
   ]
  },
  {
   "cell_type": "markdown",
   "id": "ddb17e50",
   "metadata": {},
   "source": [
    "### 4.1 Strategy Parameter Grid Search\n",
    "\n",
    "The ```Factor``` class has a ```return``` method which computes factor returns. The class attributes and method arguments can be optimized to achieve better performance. We can use the ```strategy_param_grid_search``` to assess the factor strategy's sensitivity to these inputs."
   ]
  },
  {
   "cell_type": "markdown",
   "id": "8b144180",
   "metadata": {},
   "source": [
    "#### Cross Sectional\n",
    "\n",
    "We explore the parameter space for the best performing cross-sectional trend strategy."
   ]
  },
  {
   "cell_type": "code",
   "execution_count": null,
   "id": "73617fbe",
   "metadata": {},
   "outputs": [],
   "source": [
    "strat_df = strategy_param_grid_search(trend_df[trend_cs_perf_table.iloc[0].name], ret_df.close, metric='sharpe_ratio',                         \n",
    "                                \n",
    "                                factor_args = {\n",
    "                                    'strategy': ['cs_ls'],\n",
    "                                     'factor_bins': [3, 5, 7, 10], \n",
    "                                },\n",
    "                         ret_args = {\n",
    "                             'signal_type': ['signal_quantiles'],\n",
    "                             'norm_method': ['cdf', 'z-score'],\n",
    "                             'rebalancing': [1, 3, 5, 7, 10],\n",
    "                             'weighting': ['ew', 'vol'],\n",
    "                             't_cost': [0, 0.001, 0.0025, 0.005]\n",
    "                         })"
   ]
  },
  {
   "cell_type": "code",
   "execution_count": null,
   "id": "a1ab0877",
   "metadata": {},
   "outputs": [],
   "source": [
    "strat_param_matrix = param_heatmap(strat_df.dropna(), \n",
    "                             metric='sharpe_ratio', \n",
    "                             fixed_params={'strategy': 'cs_ls', 'signal_type': 'signal_quantiles', 'rebalancing':7, 'norm_method': 'cdf', 'weighting':'ew'}, \n",
    "                             plot_params=['factor_bins', 't_cost']\n",
    "                                  )"
   ]
  }
 ],
 "metadata": {
  "kernelspec": {
   "display_name": "systamental",
   "language": "python",
   "name": "systamental"
  },
  "language_info": {
   "codemirror_mode": {
    "name": "ipython",
    "version": 3
   },
   "file_extension": ".py",
   "mimetype": "text/x-python",
   "name": "python",
   "nbconvert_exporter": "python",
   "pygments_lexer": "ipython3",
   "version": "3.9.13"
  },
  "toc": {
   "base_numbering": 1,
   "nav_menu": {},
   "number_sections": true,
   "sideBar": true,
   "skip_h1_title": false,
   "title_cell": "Table of Contents",
   "title_sidebar": "Contents",
   "toc_cell": false,
   "toc_position": {},
   "toc_section_display": true,
   "toc_window_display": false
  }
 },
 "nbformat": 4,
 "nbformat_minor": 5
}
