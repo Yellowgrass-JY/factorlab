{
 "cells": [
  {
   "cell_type": "markdown",
   "id": "11b5e808",
   "metadata": {},
   "source": [
    "\n",
    "# Trend Factor Analysis"
   ]
  },
  {
   "cell_type": "markdown",
   "id": "97486724",
   "metadata": {},
   "source": [
    "This notebook explores the trend factor in digital assets.\n",
    "\n",
    "To conduct this analysis, we will use **FactorLab**, an open-source python package we have created specifically for alpha and risk factor analysis. "
   ]
  },
  {
   "cell_type": "markdown",
   "id": "b6be8fe6",
   "metadata": {},
   "source": [
    "To install **FactorLab**:\n",
    "`pip install factorlab`"
   ]
  },
  {
   "cell_type": "code",
   "execution_count": 2,
   "id": "3777bff6",
   "metadata": {},
   "outputs": [],
   "source": [
    "# uncomment to install factorlab\n",
    "# pip install factorlab"
   ]
  },
  {
   "cell_type": "code",
   "execution_count": 7,
   "id": "77d89e84",
   "metadata": {},
   "outputs": [
    {
     "ename": "ModuleNotFoundError",
     "evalue": "No module named 'time_series_analysis'",
     "output_type": "error",
     "traceback": [
      "\u001b[0;31m---------------------------------------------------------------------------\u001b[0m",
      "\u001b[0;31mModuleNotFoundError\u001b[0m                       Traceback (most recent call last)",
      "Cell \u001b[0;32mIn[7], line 16\u001b[0m\n\u001b[1;32m     13\u001b[0m \u001b[38;5;28;01mimport\u001b[39;00m \u001b[38;5;21;01mwarnings\u001b[39;00m\n\u001b[1;32m     14\u001b[0m warnings\u001b[38;5;241m.\u001b[39mfilterwarnings(\u001b[38;5;124m'\u001b[39m\u001b[38;5;124mignore\u001b[39m\u001b[38;5;124m'\u001b[39m)\n\u001b[0;32m---> 16\u001b[0m \u001b[38;5;28;01mfrom\u001b[39;00m \u001b[38;5;21;01mfactorlab\u001b[39;00m\u001b[38;5;21;01m.\u001b[39;00m\u001b[38;5;21;01mtrend\u001b[39;00m \u001b[38;5;28;01mimport\u001b[39;00m Trend\n\u001b[1;32m     17\u001b[0m \u001b[38;5;28;01mfrom\u001b[39;00m \u001b[38;5;21;01mfactorlab\u001b[39;00m\u001b[38;5;21;01m.\u001b[39;00m\u001b[38;5;21;01mtransform\u001b[39;00m \u001b[38;5;28;01mimport\u001b[39;00m Transform\n\u001b[1;32m     18\u001b[0m \u001b[38;5;28;01mfrom\u001b[39;00m \u001b[38;5;21;01mfactorlab\u001b[39;00m\u001b[38;5;21;01m.\u001b[39;00m\u001b[38;5;21;01mdata_viz\u001b[39;00m \u001b[38;5;28;01mimport\u001b[39;00m plot_table, plot_series, plot_bar, add_fonts\n",
      "File \u001b[0;32m~/projects/systamental/factorlab/src/factorlab/trend.py:7\u001b[0m\n\u001b[1;32m      3\u001b[0m \u001b[38;5;28;01mimport\u001b[39;00m \u001b[38;5;21;01mnumpy\u001b[39;00m \u001b[38;5;28;01mas\u001b[39;00m \u001b[38;5;21;01mnp\u001b[39;00m\n\u001b[1;32m      4\u001b[0m \u001b[38;5;28;01mfrom\u001b[39;00m \u001b[38;5;21;01mtyping\u001b[39;00m \u001b[38;5;28;01mimport\u001b[39;00m Union\n\u001b[0;32m----> 7\u001b[0m \u001b[38;5;28;01mfrom\u001b[39;00m \u001b[38;5;21;01mtime_series_analysis\u001b[39;00m \u001b[38;5;28;01mimport\u001b[39;00m linear_reg\n\u001b[1;32m      8\u001b[0m \u001b[38;5;28;01mfrom\u001b[39;00m \u001b[38;5;21;01mtransform\u001b[39;00m \u001b[38;5;28;01mimport\u001b[39;00m Transform\n\u001b[1;32m     11\u001b[0m \u001b[38;5;28;01mclass\u001b[39;00m \u001b[38;5;21;01mTrend\u001b[39;00m:\n",
      "\u001b[0;31mModuleNotFoundError\u001b[0m: No module named 'time_series_analysis'"
     ]
    }
   ],
   "source": [
    "import pandas as pd\n",
    "import numpy as np\n",
    "\n",
    "from functools import partial\n",
    "from typing import Optional, List, Callable\n",
    "import matplotlib.pyplot as plt\n",
    "from matplotlib import font_manager as fm\n",
    "import plotly.graph_objects as go\n",
    "import seaborn as sns\n",
    "%matplotlib inline\n",
    "from importlib import resources\n",
    "from PIL import Image\n",
    "import warnings\n",
    "warnings.filterwarnings('ignore')\n",
    "\n",
    "from factorlab.trend import Trend\n",
    "from factorlab.transform import Transform\n",
    "from factorlab.data_viz import plot_table, plot_series, plot_bar, add_fonts\n",
    "from factorlab.time_series_analysis import linear_reg, adf, hurst, granger_causality\n",
    "from factorlab.factor_analysis import Factor\n",
    "from factorlab.performance import Performance\n",
    "from factorlab.param_grid_search import *"
   ]
  },
  {
   "cell_type": "markdown",
   "id": "13d8a1b4",
   "metadata": {},
   "source": [
    "# Collect Data\n",
    "\n",
    "First, let's pull our value factor data csv files.\n",
    "\n",
    "Data was gathered, cleaned and wrangled using **CryptoDataPy**, our open source python package. See the data wrangling notebooks for the data pre-processing code."
   ]
  },
  {
   "cell_type": "code",
   "execution_count": null,
   "id": "9506ecc1",
   "metadata": {},
   "outputs": [],
   "source": [
    "df = pd.read_csv('../src/factorlab/datasets/data/crypto_market_data.csv', index_col=[0,1], parse_dates=True)"
   ]
  },
  {
   "cell_type": "code",
   "execution_count": null,
   "id": "bfc41b83",
   "metadata": {},
   "outputs": [],
   "source": [
    "# merge\n",
    "oc_df = pd.concat([mktcap_df, oc_df], axis=1).sort_index()"
   ]
  },
  {
   "cell_type": "code",
   "execution_count": null,
   "id": "0d77067e",
   "metadata": {},
   "outputs": [],
   "source": [
    "# addresses\n",
    "add_df = oc_df[['add_act', 'add_new', 'add_tot']].copy()"
   ]
  },
  {
   "cell_type": "markdown",
   "id": "bcd26c2a",
   "metadata": {},
   "source": [
    "- Compute an **adjusted transaction value** to reduce impact of large outlier transactions by multiplying average transfer value by transaction counts"
   ]
  },
  {
   "cell_type": "code",
   "execution_count": 11,
   "id": "d20b1fc0",
   "metadata": {},
   "outputs": [],
   "source": [
    "oc_df['tfr_val_usd_adj'] = oc_df.tx_count * oc_df.tfr_val_mean_usd"
   ]
  },
  {
   "cell_type": "markdown",
   "id": "1b5489e6",
   "metadata": {},
   "source": [
    "- Compute **Network value to Transactions value NVT ratio**"
   ]
  },
  {
   "cell_type": "code",
   "execution_count": 12,
   "id": "a7a57fb6",
   "metadata": {},
   "outputs": [],
   "source": [
    "oc_df['nvt'] = oc_df.mkt_cap / oc_df.tfr_val_usd\n",
    "oc_df['nvt_adj'] = oc_df.mkt_cap / oc_df.tfr_val_usd_adj"
   ]
  },
  {
   "cell_type": "markdown",
   "id": "f864b5e0",
   "metadata": {},
   "source": [
    "# Feature and Target Variables"
   ]
  },
  {
   "cell_type": "markdown",
   "id": "c98ed0cf",
   "metadata": {},
   "source": [
    "## Target Variables\n",
    "\n",
    "We will need to compute spot, total and forward returns which will be our target variable.\n",
    "\n",
    "We also compute the equal-weighted and market cap weighted market return to estimate betas/alphas."
   ]
  },
  {
   "cell_type": "code",
   "execution_count": null,
   "id": "c441b2a6",
   "metadata": {},
   "outputs": [],
   "source": [
    "# total returns\n",
    "ret_df = Transform(df.close).returns().rename(columns={'close':'ret'})\n",
    "ret_df['funding_rate'] = df.funding_rate.fillna(0)\n",
    "ret_df['tr'] = ret_df.ret - ret_df.funding_rate"
   ]
  },
  {
   "cell_type": "code",
   "execution_count": null,
   "id": "cd4b7429",
   "metadata": {},
   "outputs": [],
   "source": [
    "# fwd rets\n",
    "fwd_spot_ret = Transform(df.close).returns(lags=1, forward=True).close.to_frame('fwd_ret_1')\n",
    "fwd_spot_ret['fwd_ret_5'] = Transform(df.close).returns(lags=5, forward=True)\n",
    "fwd_spot_ret['fwd_ret_7'] = Transform(df.close).returns(lags=7, forward=True)\n",
    "fwd_spot_ret['fwd_ret_10'] = Transform(df.close).returns(lags=10, forward=True)\n",
    "fwd_spot_ret['fwd_ret_14'] = Transform(df.close).returns(lags=14, forward=True)\n",
    "fwd_spot_ret['fwd_ret_20'] = Transform(df.close).returns(lags=20, forward=True)\n",
    "fwd_spot_ret['fwd_ret_30'] = Transform(df.close).returns(lags=30, forward=True)\n",
    "fwd_spot_ret['fwd_ret_60'] = Transform(df.close).returns(lags=60, forward=True)\n",
    "fwd_spot_ret['fwd_ret_90'] = Transform(df.close).returns(lags=90, forward=True)\n",
    "fwd_spot_ret['fwd_ret_180'] = Transform(df.close).returns(lags=180, forward=True)\n",
    "fwd_spot_ret['fwd_ret_365'] = Transform(df.close).returns(lags=365, forward=True)"
   ]
  },
  {
   "cell_type": "code",
   "execution_count": null,
   "id": "7976a32e",
   "metadata": {},
   "outputs": [],
   "source": [
    "# total fwd rets\n",
    "fwd_ret = ret_df.tr.groupby('ticker').shift(-1).fillna(0).to_frame('fwd_ret')\n",
    "# normalized fwd ret\n",
    "fwd_ret_norm = Transform(fwd_ret).normalize_ts(window_type='expanding')"
   ]
  },
  {
   "cell_type": "code",
   "execution_count": null,
   "id": "63e3b79f",
   "metadata": {},
   "outputs": [],
   "source": [
    "# normalized fwd spot rets\n",
    "fwd_spot_ret_z = Transform(fwd_spot_ret).normalize_ts(window_type='expanding')"
   ]
  },
  {
   "cell_type": "code",
   "execution_count": null,
   "id": "db6d3d31",
   "metadata": {},
   "outputs": [],
   "source": [
    "# relative returns for cross-section \n",
    "fwd_rel_ret = fwd_spot_ret.copy()\n",
    "for col in fwd_rel_ret.columns:\n",
    "    fwd_rel_ret[col] = fwd_spot_ret[col] - fwd_spot_ret[col].groupby('date').mean()"
   ]
  },
  {
   "cell_type": "code",
   "execution_count": null,
   "id": "5d985dee",
   "metadata": {},
   "outputs": [],
   "source": [
    "# normalize relative returns\n",
    "fwd_rel_ret_z = Transform(fwd_rel_ret).normalize_ts(window_type='expanding')"
   ]
  },
  {
   "cell_type": "code",
   "execution_count": null,
   "id": "b08c4ae0",
   "metadata": {},
   "outputs": [],
   "source": [
    "# create market cap weights and returns\n",
    "mkt_df = pd.concat([df, mktcap_df], axis=1)\n",
    "mkt_df['mkt_cap_weights'] = mkt_df.mkt_cap / mkt_df.mkt_cap.groupby('date').sum()\n",
    "mkt_df['ret'] = Transform(mkt_df.close).returns()"
   ]
  },
  {
   "cell_type": "code",
   "execution_count": null,
   "id": "1b5097bf",
   "metadata": {},
   "outputs": [],
   "source": [
    "# create ew and mw market returns\n",
    "mkt_ret_ew = mkt_df.ret.groupby('date').mean().to_frame('mkt_ret')\n",
    "mkt_ret_mw = (mkt_df.mkt_cap_weights * mkt_df.ret).groupby('date').sum().to_frame('mkt_ret')"
   ]
  },
  {
   "cell_type": "markdown",
   "id": "4eae08f2",
   "metadata": {},
   "source": [
    "## Quality Factors\n",
    "\n",
    "We compute various types of quality factors relying on the cryptoasset and traditional asset literature:\n",
    "\n",
    "1. **Network size**\n",
    "2. **Network growth**\n",
    "3. **Network safety** \n"
   ]
  },
  {
   "cell_type": "markdown",
   "id": "1218c950",
   "metadata": {},
   "source": [
    "1. **Network Size**: number of addresses"
   ]
  },
  {
   "cell_type": "code",
   "execution_count": null,
   "id": "ca7a0753",
   "metadata": {},
   "outputs": [],
   "source": [
    "net_size = Quality(add_df).network_size()"
   ]
  },
  {
   "cell_type": "code",
   "execution_count": null,
   "id": "bdb49469",
   "metadata": {},
   "outputs": [],
   "source": [
    "net_size"
   ]
  },
  {
   "cell_type": "markdown",
   "id": "5d1c1881",
   "metadata": {},
   "source": [
    "2. **Network Health**: \n",
    "- *Growth rate*: address growth rate over n-lookback window.\n",
    "- *Persistence*: coefficient of address growth regressed on lagged value t-1 of address growth over n-lookback window."
   ]
  },
  {
   "cell_type": "markdown",
   "id": "2a0a8cc4",
   "metadata": {},
   "source": [
    "#### Growth"
   ]
  },
  {
   "cell_type": "code",
   "execution_count": null,
   "id": "f01c362e",
   "metadata": {},
   "outputs": [],
   "source": [
    "net_gr7 = Quality(add_df, window_size=7).network_growth()\n",
    "net_gr14 = Quality(add_df, window_size=14).network_growth()\n",
    "net_gr21 = Quality(add_df, window_size=21).network_growth()\n",
    "net_gr30 = Quality(add_df, window_size=30).network_growth()\n",
    "net_gr60 = Quality(add_df, window_size=60).network_growth()\n",
    "net_gr90 = Quality(add_df, window_size=90).network_growth()"
   ]
  },
  {
   "cell_type": "code",
   "execution_count": null,
   "id": "efe5914f",
   "metadata": {},
   "outputs": [],
   "source": [
    "net_gr7"
   ]
  },
  {
   "cell_type": "markdown",
   "id": "43ae4822",
   "metadata": {},
   "source": [
    "#### Persistence"
   ]
  },
  {
   "cell_type": "code",
   "execution_count": null,
   "id": "70f9753e",
   "metadata": {},
   "outputs": [],
   "source": [
    "net_pers = Quality(add_df, smoothing=None, window_size=30).network_persistence()"
   ]
  },
  {
   "cell_type": "code",
   "execution_count": null,
   "id": "514c8bd8",
   "metadata": {},
   "outputs": [],
   "source": [
    "net_pers"
   ]
  },
  {
   "cell_type": "markdown",
   "id": "3e93565e",
   "metadata": {},
   "source": [
    "3. **Network Safety**: \n",
    "- *Volatility*: standard deviation of network growth \n",
    "- *Market beta*: beta of asset returns regressed on market returns over n-period lookback window.\n",
    "- *Network alpha*:\n",
    "- *Network beta*:"
   ]
  },
  {
   "cell_type": "markdown",
   "id": "ae149db0",
   "metadata": {},
   "source": [
    "#### Volatility"
   ]
  },
  {
   "cell_type": "code",
   "execution_count": null,
   "id": "79a051b7",
   "metadata": {},
   "outputs": [],
   "source": [
    "net_vol = Quality(add_df, smoothing=None, window_size=90).network_vol()"
   ]
  },
  {
   "cell_type": "code",
   "execution_count": null,
   "id": "56f88598",
   "metadata": {},
   "outputs": [],
   "source": [
    "net_vol.add_act.dropna().unstack().iloc[-1].sort_values()"
   ]
  },
  {
   "cell_type": "markdown",
   "id": "3638d44b",
   "metadata": {},
   "source": [
    "#### Market Beta"
   ]
  },
  {
   "cell_type": "code",
   "execution_count": null,
   "id": "f7045cfc",
   "metadata": {},
   "outputs": [],
   "source": [
    "mkt_beta = Quality(add_df, window_size=60).market_beta(ret_df.ret, mkt_ret_ew.mkt_ret)"
   ]
  },
  {
   "cell_type": "code",
   "execution_count": null,
   "id": "4dd0adee",
   "metadata": {},
   "outputs": [],
   "source": [
    "mkt_beta.beta.dropna().unstack().iloc[-1].sort_values()[:20]"
   ]
  },
  {
   "cell_type": "markdown",
   "id": "d619754b",
   "metadata": {},
   "source": [
    "# Data Exploration\n",
    "\n",
    "We can now start with some simple exploratory analysis."
   ]
  },
  {
   "cell_type": "markdown",
   "id": "43aec41a",
   "metadata": {},
   "source": [
    "### Value factor correlations"
   ]
  },
  {
   "cell_type": "code",
   "execution_count": null,
   "id": "5479e9d6",
   "metadata": {},
   "outputs": [],
   "source": [
    "# value_z_df.corr()"
   ]
  },
  {
   "cell_type": "markdown",
   "id": "81ad500e",
   "metadata": {},
   "source": [
    "\n",
    "Converting our data into logs, we can establish which indicators have the highest correlation with market cap."
   ]
  },
  {
   "cell_type": "code",
   "execution_count": null,
   "id": "3dc10435",
   "metadata": {},
   "outputs": [],
   "source": [
    "# correlations\n",
    "# np.log(oc_df).corr().mkt_cap.sort_values()"
   ]
  },
  {
   "cell_type": "markdown",
   "id": "e63ea55f",
   "metadata": {},
   "source": [
    "# Statistical Analysis\n",
    "\n",
    "In our statistical analysis, we'll explore the relationship between our value measures and price/forward returns.\n",
    "\n",
    "This will include:\n",
    "\n",
    "1. *Screening methods*\n",
    "2. *Regression Analysis*\n"
   ]
  },
  {
   "cell_type": "markdown",
   "id": "03cdb956",
   "metadata": {},
   "source": [
    "### Filter Methods\n",
    "\n",
    "Filter-based methods are a category of supervised feature selection technique that are independent from the ML algorithm and can be used to evaluate the relationship between features (value measures) and the target variable (forward returns), and rank the features based on the strength of their statistical relationship with the target."
   ]
  },
  {
   "cell_type": "markdown",
   "id": "991e0164",
   "metadata": {},
   "source": [
    "The `Factor` class has a `filter` method which allows us to run a filter on our value measures and forward returns. Standardized value measures are first discretized into quantiles/bins and ranked by the selected statistical measure. Here we used Spearman correlation."
   ]
  },
  {
   "cell_type": "markdown",
   "id": "99a2ebbb",
   "metadata": {},
   "source": [
    "#### Cross sectional"
   ]
  },
  {
   "cell_type": "code",
   "execution_count": null,
   "id": "d5689982",
   "metadata": {},
   "outputs": [],
   "source": [
    "# compute stats for cross sectional strategies\n",
    "stats_cs_1d_df = Factor(net_gr30, fwd_rel_ret_z.fwd_ret_1, strategy='cs_ls', factor_bins=5, target_bins=3).filter(metrics='all', rank_on='spearman_r')"
   ]
  },
  {
   "cell_type": "code",
   "execution_count": null,
   "id": "c76a7c5f",
   "metadata": {},
   "outputs": [],
   "source": [
    "stats_cs_1d_df"
   ]
  },
  {
   "cell_type": "code",
   "execution_count": null,
   "id": "a4a5950b",
   "metadata": {},
   "outputs": [],
   "source": [
    "# compute stats for cross sectional strategies\n",
    "stats_cs_7d_df = Factor(net_gr30, fwd_rel_ret_z.fwd_ret_7, strategy='cs_ls', factor_bins=5, target_bins=3).filter(metrics=['spearman_r', 'p-val', 'cramer_v', 'chi2', 'mutual_info', 'autocorrelation'], rank_on='spearman_r')"
   ]
  },
  {
   "cell_type": "code",
   "execution_count": null,
   "id": "71dd6e4b",
   "metadata": {},
   "outputs": [],
   "source": [
    "stats_cs_7d_df"
   ]
  },
  {
   "cell_type": "code",
   "execution_count": null,
   "id": "97fd1ea3",
   "metadata": {},
   "outputs": [],
   "source": [
    "# compute stats for cross sectional strategies\n",
    "stats_cs_30d_df = Factor(net_gr30, fwd_rel_ret_z.fwd_ret_30, strategy='cs_ls', factor_bins=5, target_bins=3).filter(metrics=['spearman_r', 'p-val', 'cramer_v', 'chi2', 'mutual_info', 'autocorrelation'], rank_on='spearman_r')"
   ]
  },
  {
   "cell_type": "code",
   "execution_count": null,
   "id": "55e36af1",
   "metadata": {},
   "outputs": [],
   "source": [
    "stats_cs_30d_df"
   ]
  },
  {
   "cell_type": "code",
   "execution_count": null,
   "id": "420830d2",
   "metadata": {},
   "outputs": [],
   "source": [
    "# compute stats for cross sectional strategies\n",
    "stats_cs_90d_df = Factor(net_gr30, fwd_rel_ret_z.fwd_ret_90, strategy='cs_ls', factor_bins=5, target_bins=3).filter(metrics=['spearman_r', 'p-val', 'cramer_v', 'chi2', 'mutual_info', 'autocorrelation'], rank_on='spearman_r')"
   ]
  },
  {
   "cell_type": "code",
   "execution_count": null,
   "id": "458f1b23",
   "metadata": {},
   "outputs": [],
   "source": [
    "stats_cs_90d_df"
   ]
  },
  {
   "cell_type": "markdown",
   "id": "fdda8280",
   "metadata": {},
   "source": [
    "### Regression Analysis\n",
    "\n",
    "We can use the **FactorLab** `regression` method in the `Factor` class to run *pooled* and *Fama-Macbeth* regressions in order to assess the economic and statistical significance of our value measures for both time series and cross sectional implementations. Regressions use a robust estimator (Newey-West) to account for heteroskedasticity and autocorrelation.\n",
    "\n",
    "Value measures are ranked by betas to forward returns. We use 1, 7, 30 and 90 day forward return windows. Both value measures and forward returns are normalized (z-score)."
   ]
  },
  {
   "cell_type": "markdown",
   "id": "242d593d",
   "metadata": {},
   "source": [
    "#### Fama Macbeth\n"
   ]
  },
  {
   "cell_type": "code",
   "execution_count": null,
   "id": "6da73f87",
   "metadata": {},
   "outputs": [],
   "source": [
    "fm_1d_reg = Factor(net_gr30, fwd_spot_ret_z.fwd_ret_1).regression(method='fama-macbeth', nobs=3)"
   ]
  },
  {
   "cell_type": "code",
   "execution_count": null,
   "id": "f33e48fa",
   "metadata": {},
   "outputs": [],
   "source": [
    "fm_1d_reg"
   ]
  },
  {
   "cell_type": "code",
   "execution_count": null,
   "id": "f015906d",
   "metadata": {},
   "outputs": [],
   "source": [
    "fm_7d_reg = Factor(net_gr30, fwd_spot_ret.fwd_ret_7).regression(method='fama-macbeth', nobs=3)"
   ]
  },
  {
   "cell_type": "code",
   "execution_count": null,
   "id": "a399cfc1",
   "metadata": {},
   "outputs": [],
   "source": [
    "fm_7d_reg"
   ]
  },
  {
   "cell_type": "code",
   "execution_count": null,
   "id": "18e9faab",
   "metadata": {},
   "outputs": [],
   "source": [
    "fm_30d_reg = Factor(net_gr30, fwd_spot_ret_z.fwd_ret_30).regression(method='fama-macbeth', nobs=3)"
   ]
  },
  {
   "cell_type": "code",
   "execution_count": null,
   "id": "6fd918fb",
   "metadata": {},
   "outputs": [],
   "source": [
    "fm_30d_reg"
   ]
  },
  {
   "cell_type": "code",
   "execution_count": null,
   "id": "42ba84e3",
   "metadata": {},
   "outputs": [],
   "source": [
    "fm_90d_reg = Factor(net_gr30, fwd_spot_ret_z.fwd_ret_90).regression(method='fama-macbeth', nobs=3)"
   ]
  },
  {
   "cell_type": "code",
   "execution_count": null,
   "id": "fd0c505b",
   "metadata": {},
   "outputs": [],
   "source": [
    "plot_table(fm_90d_reg, fig_size=(5,3), font='Lato', title='Fama-Macbeth Regressions', subtitle='90 day forward returns')"
   ]
  },
  {
   "cell_type": "markdown",
   "id": "effb5d1e",
   "metadata": {},
   "source": [
    "# Factor Return Analysis\n",
    "\n",
    "In our factor return analysis, we'll explore the profitability of our value factors for both time series and cross-sectional trading strategies.\n",
    "\n",
    "Our factor analysis involves computing factor returns by scaling forward returns on value factor signals (forecasts). Note that this analysis is carried out with little or no optimization since the goal is to uncover robust alpha/risk factors, rather than overfitting the data.\n",
    "\n",
    "We will consider a few key properties of our factor returns:\n",
    "\n",
    "- **Factor quantiles**: we evaluate forward returns over varying window lengths across factor quantiles. Robust factors-based strategies will typically show a monotonic relationship between factor quantiles and forward returns.\n",
    "- **Cumulative returns**: cumulative returns, aka the equity curve, give us a good sense of whether the factor-based strategy has merit. A robust and profitable factor will produce returns that go from the lower left to upper right.\n",
    "- **Performance metrics**: factor returns can be evaluated like any asset or strategy returns, using measures of risk and retun. We are looking for factor that produce high risk-adjusted returns which are distinct from those produced by long exposure to the market (aka alpha). \n",
    "- **Parameter grid search**: factor returns can be very sensitive to parameter choices, e.g. window size/lookback in momentum strategies. A parameter grid search allows us to assess how factors performn across a broad range of parameters. We are looking for a parameter grid space which is robust to small changes in parameter values.\n"
   ]
  },
  {
   "cell_type": "markdown",
   "id": "31ddb185",
   "metadata": {},
   "source": [
    "## Factor Quantiles"
   ]
  },
  {
   "cell_type": "markdown",
   "id": "487ddcde",
   "metadata": {},
   "source": [
    "The `Factor` class has a `ret_quantiles` method which allows us to compare average forward returns by factor quantile."
   ]
  },
  {
   "cell_type": "markdown",
   "id": "2b75574b",
   "metadata": {},
   "source": [
    "#### Time Series"
   ]
  },
  {
   "cell_type": "code",
   "execution_count": null,
   "id": "923be4a4",
   "metadata": {},
   "outputs": [],
   "source": [
    "# quantile_ts_ret = Factor(value_z_df, fwd_spot_ret[['fwd_ret_1', 'fwd_ret_7', 'fwd_ret_30']], strategy='ts_ls', factor_bins=3).ret_quantiles(factor='nvm_ratio_an30', plot_rets=True)"
   ]
  },
  {
   "cell_type": "code",
   "execution_count": null,
   "id": "7131d001",
   "metadata": {},
   "outputs": [],
   "source": [
    "# quantile_ts_ret = Factor(value_z_df, fwd_spot_ret[['fwd_ret_1', 'fwd_ret_7', 'fwd_ret_30']], strategy='ts_ls', factor_bins=3).ret_quantiles(factor='nvm_ratio_aa30', plot_rets=True)"
   ]
  },
  {
   "cell_type": "code",
   "execution_count": null,
   "id": "7accecd0",
   "metadata": {},
   "outputs": [],
   "source": [
    "# quantile_ts_ret = Factor(value_z_df, fwd_spot_ret[['fwd_ret_1', 'fwd_ret_7', 'fwd_ret_30']], strategy='ts_ls', factor_bins=3).ret_quantiles(factor='nvt_ratio_30', plot_rets=True)"
   ]
  },
  {
   "cell_type": "code",
   "execution_count": null,
   "id": "29e2daee",
   "metadata": {},
   "outputs": [],
   "source": [
    "# quantile_ts_ret = Factor(value_z_df, fwd_spot_ret[['fwd_ret_1', 'fwd_ret_7', 'fwd_ret_30']], strategy='ts_ls', factor_bins=3).ret_quantiles(factor='mvrv', plot_rets=True)"
   ]
  },
  {
   "cell_type": "markdown",
   "id": "2dcad784",
   "metadata": {},
   "source": [
    "#### Cross-sectional"
   ]
  },
  {
   "cell_type": "code",
   "execution_count": null,
   "id": "9ab6505a",
   "metadata": {},
   "outputs": [],
   "source": [
    "quantile_cs_ret = Factor(net_gr7, fwd_spot_ret.fwd_ret_1, strategy='cs_ls', factor_bins=5).quantiles(factor='add_act', metric='ann_ret', rebalancing=14)"
   ]
  },
  {
   "cell_type": "code",
   "execution_count": null,
   "id": "45e4c524",
   "metadata": {},
   "outputs": [],
   "source": [
    "plot_bar(quantile_cs_ret, title='Sorted Portfolio Returns by Factor Quantile')"
   ]
  },
  {
   "cell_type": "code",
   "execution_count": null,
   "id": "97284cc0",
   "metadata": {},
   "outputs": [],
   "source": [
    "quantile_cs_ret = Factor(net_gr7, fwd_spot_ret.fwd_ret_1, strategy='cs_ls', factor_bins=5).quantiles(factor='add_new', metric='ann_ret', rebalancing=14)"
   ]
  },
  {
   "cell_type": "code",
   "execution_count": null,
   "id": "2dfc8c8a",
   "metadata": {},
   "outputs": [],
   "source": [
    "plot_bar(quantile_cs_ret, title='Sorted Portfolio Returns by Factor Quantile')"
   ]
  },
  {
   "cell_type": "code",
   "execution_count": null,
   "id": "46c435af",
   "metadata": {},
   "outputs": [],
   "source": [
    "quantile_cs_ret = Factor(net_gr7, fwd_spot_ret.fwd_ret_1, strategy='cs_ls', factor_bins=5).quantiles(factor='add_tot', metric='ann_ret', rebalancing=14)"
   ]
  },
  {
   "cell_type": "code",
   "execution_count": null,
   "id": "8595939e",
   "metadata": {},
   "outputs": [],
   "source": [
    "plot_bar(quantile_cs_ret, \n",
    "         title='Quantile Returns', \n",
    "         subtitle='Annual return by factor quantile',\n",
    "         y_label='annual return',\n",
    "         add_line=True,\n",
    "         font='Lato',\n",
    "         source='Strategy Risks'\n",
    "        )"
   ]
  },
  {
   "cell_type": "markdown",
   "id": "56dd43b7",
   "metadata": {},
   "source": [
    "## Cumulative Returns"
   ]
  },
  {
   "cell_type": "markdown",
   "id": "29e37eeb",
   "metadata": {},
   "source": [
    "#### Time Series Strategy\n",
    "\n",
    "Time strategies go long assets with high factor values, and short assets with low factor values relative to their past history. Factor values are converted to signals on which one-period ahead forward returns are scaled to obtain factor returns.\n",
    "\n",
    "Strategy parameters are not optimized and are set to:\n",
    "\n",
    "- `signal_type`: value factors are converted to continuous signals between 1 and -1.\n",
    "- `rebalancing`: weekly/7 day portfolio rebalancing\n",
    "- `t_cost`: 20 bps transaction cost\n",
    "- `weighting`: signals are adjusted by a volatility scaling factor that targets 10% volatility."
   ]
  },
  {
   "cell_type": "markdown",
   "id": "0ab4cc44",
   "metadata": {},
   "source": [
    "The `Factor` class has a `returns` method which allows us to compute factor returns with specific strategy parameters."
   ]
  },
  {
   "cell_type": "code",
   "execution_count": null,
   "id": "2c0ffaec",
   "metadata": {},
   "outputs": [],
   "source": [
    "# ts carry returns\n",
    "# value_ts_ret = Factor(value_df, ret_df.tr, strategy='ts_ls', factor_bins=3).returns(signal_type='signal', rebalancing=7, t_cost=0.002, weighting='iv')"
   ]
  },
  {
   "cell_type": "markdown",
   "id": "c8cbeab4",
   "metadata": {},
   "source": [
    "The `Performance` class has a `plot_metric` method which plots a time series of any financial performance metric. Here we plot cumulative returns."
   ]
  },
  {
   "cell_type": "code",
   "execution_count": null,
   "id": "7afab59b",
   "metadata": {},
   "outputs": [],
   "source": [
    "# Performance(value_ts_ret.loc['2016-01-01':,:], mkt_ret=mkt_ret_mw, ret_type='log').plot_metric(metric='cumulative_ret')"
   ]
  },
  {
   "cell_type": "markdown",
   "id": "2370666f",
   "metadata": {},
   "source": [
    "#### Cross-Sectional Strategy\n",
    "Cross-sectional strategies sort assets into quantiles based on their factor values. A long portfolio is formed from the top quantile, and a short portfolio from the bottom quantile.\n",
    "\n",
    "Strategy parameters are not optimized and are set to:\n",
    "- `quantiles`: 5\n",
    "- `tails`: two (use only top and bottom quantiles)\n",
    "- `cs_norm`: normalize value measures over time series before creating quantiles.\n",
    "- `rebalancing`: weekly/7 day portfolio rebalancing\n",
    "- `t_cost`: 20 bps transaction cost\n",
    "- `weighting`: inverse vol (iv)"
   ]
  },
  {
   "cell_type": "code",
   "execution_count": null,
   "id": "19b33a6d",
   "metadata": {},
   "outputs": [],
   "source": [
    "# cs returns\n",
    "value_cs_ret = Factor(net_vol, ret_df.tr, strategy='cs_ls', factor_bins=5).returns(signal_type='signal_quantiles', tails='two', rebalancing=7, t_cost=0.002, weighting='ew')"
   ]
  },
  {
   "cell_type": "code",
   "execution_count": null,
   "id": "c54f204a",
   "metadata": {},
   "outputs": [],
   "source": [
    "plot_series(value_cs_ret.cumsum(), fig_size=(15,7), title='Cumulative Returns', subtitle='Long/Short Quality Strategies')"
   ]
  },
  {
   "cell_type": "markdown",
   "id": "7cb84cd1",
   "metadata": {},
   "source": [
    "## Performance Metrics"
   ]
  },
  {
   "cell_type": "markdown",
   "id": "2cd39b29",
   "metadata": {},
   "source": [
    "The `Performance` class has a `table` method which computes a wide variety of financial performance metrics and ranks them on a specified metric. We use Sharpe ratio below."
   ]
  },
  {
   "cell_type": "code",
   "execution_count": null,
   "id": "22fd62be",
   "metadata": {},
   "outputs": [],
   "source": [
    "# perf_ts_table = Performance(value_ts_ret.loc['2016-01-01':,:], mkt_ret=mkt_ret_mw, ret_type='log').table(metrics='key_metrics', rank_on='Sharpe ratio')"
   ]
  },
  {
   "cell_type": "code",
   "execution_count": null,
   "id": "d8995205",
   "metadata": {},
   "outputs": [],
   "source": [
    "# publish_table(perf_ts_table, title='Performance - Time Series Value', reset_index=True)"
   ]
  },
  {
   "cell_type": "code",
   "execution_count": null,
   "id": "9bc4e192",
   "metadata": {},
   "outputs": [],
   "source": [
    "perf_cs_table = Performance(value_cs_ret, mkt_ret=mkt_ret_mw, ret_type='log').table(metrics='key_metrics', rank_on='Sharpe ratio')"
   ]
  },
  {
   "cell_type": "code",
   "execution_count": null,
   "id": "8eb98c0b",
   "metadata": {},
   "outputs": [],
   "source": [
    "plot_table(perf_cs_table, fig_size=(10,2.5), title='Performance Metrics', subtitle='Cross-sectional Quality')"
   ]
  },
  {
   "cell_type": "markdown",
   "id": "d456e53f",
   "metadata": {},
   "source": [
    "## Parameter Grid Search\n",
    "\n",
    "Rather than pick an arbitrary parameter value as most academic studies do, **FactorLab** has a `factor_param_grid_search` function allows us to explore the parameter space.\n",
    "\n",
    "A robust value factor should be insensitive to changes in inputs and small changes in parameter values. A factor which produces positive returns only across a narrow set of parameter values is more likely to be spurious."
   ]
  },
  {
   "cell_type": "code",
   "execution_count": null,
   "id": "6f879af3",
   "metadata": {},
   "outputs": [],
   "source": [
    "# parameter grid search\n",
    "nvm_ts_param_df = factor_param_grid_search(oc_df, fwd_ret, Value, 'nvm',\n",
    "                                           \n",
    "                         feat_args = {\n",
    "                             'log': [True, False],\n",
    "                             'smoothing': ['smw','ewm','median'],\n",
    "                             'window_size': [3, 5, 7, 14, 21, 30, 60, 90, 120, 180, 365],\n",
    "                             'method': ['ratio', 'lin_reg']\n",
    "                                },\n",
    "                     algo_args = { 'act_users': ['add_new', 'add_act'],\n",
    "                                  'norm': [True, False],\n",
    "                                 },\n",
    "                     factor_args = {'strategy': 'ts_ls'},\n",
    "                     ret_args = {'signal_type': 'signal', 'rebalancing': 7, 't_cost': 0.002, 'weighting': 'iv'}\n",
    "                               )"
   ]
  },
  {
   "cell_type": "code",
   "execution_count": null,
   "id": "2325a0f3",
   "metadata": {},
   "outputs": [],
   "source": [
    "param_heatmap(nvm_ts_param_df, metric='sharpe_ratio', fixed_params={'log': True, 'method': 'ratio', 'act_users': 'add_new', 'norm': True}, plot_params=['smoothing', 'window_size'])"
   ]
  },
  {
   "cell_type": "code",
   "execution_count": null,
   "id": "9157cfbe",
   "metadata": {},
   "outputs": [],
   "source": [
    "param_heatmap(nvm_ts_param_df, metric='sharpe_ratio', fixed_params={'log': True, 'method': 'lin_reg', 'act_users': 'add_new', 'norm': True}, plot_params=['smoothing', 'window_size'])"
   ]
  },
  {
   "cell_type": "code",
   "execution_count": null,
   "id": "aca6c9a1",
   "metadata": {},
   "outputs": [],
   "source": [
    "param_heatmap(nvm_ts_param_df, metric='sharpe_ratio', fixed_params={'log': True, 'method': 'ratio', 'act_users': 'add_act', 'norm': True}, plot_params=['smoothing', 'window_size'])"
   ]
  },
  {
   "cell_type": "code",
   "execution_count": null,
   "id": "8bae1202",
   "metadata": {},
   "outputs": [],
   "source": [
    "nvm_ts_param_h1_df = factor_param_grid_search(oc_df.loc['2016-01-01':'2019-12-31'], fwd_ret, Value, 'nvm',\n",
    "                                feat_args = {\n",
    "                                    'log': [True, False],\n",
    "                                  'smoothing': ['smw','ewm','median'],\n",
    "                                   'window_size': [3, 5, 7, 14, 21, 30, 60, 90, 120, 180, 365],\n",
    "                                    'method': ['ratio', 'lin_reg']\n",
    "                                },\n",
    "                     algo_args = { 'act_users': ['add_act', 'add_new'],\n",
    "                                  'norm': [True, False],\n",
    "                                 },\n",
    "                     factor_args = {'strategy': 'ts_ls'},\n",
    "                     ret_args = {'signal_type': 'signal', 'rebalancing': 7, 't_cost': 0.002, 'weighting': 'iv'}\n",
    "                               )"
   ]
  },
  {
   "cell_type": "code",
   "execution_count": null,
   "id": "ef6b0549",
   "metadata": {},
   "outputs": [],
   "source": [
    "nvm_ts_param_h2_df = factor_param_grid_search(oc_df.loc['2020-01-01':], fwd_ret, Value, 'nvm',\n",
    "                                feat_args = {\n",
    "                                    'log': [True, False],\n",
    "                                  'smoothing': ['smw','ewm','median'],\n",
    "                                   'window_size': [3, 5, 7, 14, 21, 30, 60, 90, 120, 180, 365],\n",
    "                                    'method': ['ratio', 'lin_reg']\n",
    "                                },\n",
    "                     algo_args = { 'act_users': ['add_act', 'add_new'],\n",
    "                                  'norm': [True, False],\n",
    "                                 },\n",
    "                     factor_args = {'strategy': 'ts_ls'},\n",
    "                     ret_args = {'signal_type': 'signal', 'rebalancing': 7, 't_cost': 0.002, 'weighting': 'iv'}\n",
    "                               )"
   ]
  },
  {
   "cell_type": "code",
   "execution_count": null,
   "id": "35f552fb",
   "metadata": {},
   "outputs": [],
   "source": [
    "param_heatmap(nvm_ts_param_h1_df, metric='sharpe_ratio', fixed_params={'log': True, 'method': 'ratio', 'act_users': 'add_new', 'norm': True}, plot_params=['smoothing', 'window_size'])"
   ]
  },
  {
   "cell_type": "code",
   "execution_count": null,
   "id": "0f6d8a24",
   "metadata": {},
   "outputs": [],
   "source": [
    "param_heatmap(nvm_ts_param_h2_df, metric='sharpe_ratio', fixed_params={'log': True, 'method': 'ratio', 'act_users': 'add_new', 'norm': True}, plot_params=['smoothing', 'window_size'])"
   ]
  },
  {
   "cell_type": "code",
   "execution_count": null,
   "id": "a789af7e",
   "metadata": {},
   "outputs": [],
   "source": [
    "nvm_cs_param_df = factor_param_grid_search(oc_df, fwd_ret, Value, 'nvm',\n",
    "                                feat_args = {\n",
    "                                    'log': [True, False],\n",
    "                                  'smoothing': ['smw','ewm','median'],\n",
    "                                   'window_size': [3, 5, 7, 14, 21, 30, 60, 90, 120, 180, 365],\n",
    "                                    'method': ['ratio', 'lin_reg']\n",
    "                                },\n",
    "                     algo_args = { 'act_users': ['add_new', 'add_act'],\n",
    "                                  'norm': [True, False],\n",
    "                                 },\n",
    "                     factor_args = {'strategy': 'cs_ls', 'factor_bins':5},\n",
    "                     ret_args = {'signal_type': 'signal_quantiles', 'tails': 'two', 'cs_norm': True, 'rebalancing': 7, 't_cost': 0.002, 'weighting': 'iv'}\n",
    "                               )"
   ]
  },
  {
   "cell_type": "code",
   "execution_count": null,
   "id": "3be4f148",
   "metadata": {},
   "outputs": [],
   "source": [
    "param_heatmap(nvm_cs_param_df, metric='sharpe_ratio', fixed_params={'log': True, 'method': 'ratio', 'act_users': 'add_new', 'norm': True}, plot_params=['smoothing', 'window_size'])"
   ]
  },
  {
   "cell_type": "code",
   "execution_count": null,
   "id": "5ee13c25",
   "metadata": {},
   "outputs": [],
   "source": [
    "param_heatmap(nvm_cs_param_df, metric='sharpe_ratio', fixed_params={'log': True, 'method': 'lin_reg', 'act_users': 'add_new', 'norm': True}, plot_params=['smoothing', 'window_size'])"
   ]
  },
  {
   "cell_type": "code",
   "execution_count": null,
   "id": "88997ca0",
   "metadata": {},
   "outputs": [],
   "source": [
    "nvm_cs_param_h1_df = factor_param_grid_search(oc_df.loc['2016-01-01':'2019-12-31'], fwd_ret, Value, 'nvm',\n",
    "                                feat_args = {\n",
    "                                    'log': [True, False],\n",
    "                                  'smoothing': ['smw','ewm','median'],\n",
    "                                   'window_size': [3, 5, 7, 14, 21, 30, 60, 90, 120, 180, 365],\n",
    "                                    'method': ['ratio', 'lin_reg']\n",
    "                                },\n",
    "                     algo_args = { 'act_users': ['add_act', 'add_new'],\n",
    "                                  'norm': [True, False],\n",
    "                                 },\n",
    "                     factor_args = {'strategy': 'cs_ls', 'factor_bins': 5},\n",
    "                     ret_args = {'signal_type': 'signal_quantiles', 'tails': 'two', 'cs_norm': True, 'rebalancing': 7, 't_cost': 0.002, 'weighting': 'iv'}\n",
    "                               )"
   ]
  },
  {
   "cell_type": "code",
   "execution_count": null,
   "id": "1bf01acc",
   "metadata": {},
   "outputs": [],
   "source": [
    "nvm_cs_param_h2_df = factor_param_grid_search(oc_df.loc['2020-01-01':], fwd_ret, Value, 'nvm',\n",
    "                                feat_args = {\n",
    "                                    'log': [True, False],\n",
    "                                  'smoothing': ['smw','ewm','median'],\n",
    "                                   'window_size': [3, 5, 7, 14, 21, 30, 60, 90, 120, 180, 365],\n",
    "                                    'method': ['ratio', 'lin_reg']\n",
    "                                },\n",
    "                     algo_args = { 'act_users': ['add_act', 'add_new'],\n",
    "                                  'norm': [True, False],\n",
    "                                 },\n",
    "                     factor_args = {'strategy': 'cs_ls', 'factor_bins': 5},\n",
    "                     ret_args = {'signal_type': 'signal_quantiles', 'tails': 'two', 'cs_norm': True, 'rebalancing': 7, 't_cost': 0.002, 'weighting': 'iv'}\n",
    "                               )"
   ]
  },
  {
   "cell_type": "code",
   "execution_count": null,
   "id": "2cacdbf6",
   "metadata": {},
   "outputs": [],
   "source": [
    "param_heatmap(nvm_cs_param_h1_df, metric='sharpe_ratio', fixed_params={'log': True, 'method': 'ratio', 'act_users': 'add_new', 'norm': True}, plot_params=['smoothing', 'window_size'])"
   ]
  },
  {
   "cell_type": "code",
   "execution_count": null,
   "id": "e0951a2f",
   "metadata": {},
   "outputs": [],
   "source": [
    "param_heatmap(nvm_cs_param_h2_df, metric='sharpe_ratio', fixed_params={'log': True, 'method': 'ratio', 'act_users': 'add_new', 'norm': True}, plot_params=['smoothing', 'window_size'])"
   ]
  },
  {
   "cell_type": "markdown",
   "id": "39f84416",
   "metadata": {},
   "source": [
    "### T-cost Analysis\n",
    "\n",
    "Assessing the investability of a factor involves making sure that returns are positive after transaction costs. We can estimate the breakeven transaction cost for any factor using the `tcosts_be` method.\n",
    "\n",
    "An investable value factor should produce positive returns after transaction costs with enough of a margin should t-costs increase."
   ]
  },
  {
   "cell_type": "code",
   "execution_count": null,
   "id": "57b7f07c",
   "metadata": {},
   "outputs": [],
   "source": [
    "be_ts_tcosts = Factor(value_df, ret_df.tr, strategy='ts_ls', factor_bins=5).tcosts_be(signal_type='signal', rebalancing=7, weighting='iv', plot_tcosts=True)"
   ]
  },
  {
   "cell_type": "code",
   "execution_count": null,
   "id": "cef846c3",
   "metadata": {},
   "outputs": [],
   "source": [
    "be_cs_tcosts = Factor(value_df, ret_df.tr, strategy='cs_ls', factor_bins=5).tcosts_be(signal_type='signal_quantiles', cs_norm=True, tails='two', rebalancing=7, weighting='iv', plot_tcosts=True)"
   ]
  },
  {
   "cell_type": "markdown",
   "id": "c2cb42fb",
   "metadata": {},
   "source": [
    "# Value Everywhere\n",
    "\n",
    "We can compare the cryptoasset value factor returns to those of individual equities (US, UK, EU, JP), global equity indexes, FX, global fixed-income and commodity value factors using AQR's Value & Momentum Everywhere returns:\n",
    "<br>\n",
    "https://www.aqr.com/Insights/Datasets/Value-and-Momentum-Everywhere-Factors-Monthly"
   ]
  },
  {
   "cell_type": "code",
   "execution_count": null,
   "id": "ce75f2fd",
   "metadata": {},
   "outputs": [],
   "source": [
    "aqr_df = pd.read_excel('https://www.aqr.com/-/media/AQR/Documents/Insights/Data-Sets/Value-and-Momentum-Everywhere-Portfolios-Monthly.xlsx', sheet_name='VME Portfolios', header=20, index_col=0, parse_dates=True)\n",
    "aqr_df.index.name = 'date'"
   ]
  },
  {
   "cell_type": "code",
   "execution_count": null,
   "id": "532d9683",
   "metadata": {},
   "outputs": [],
   "source": [
    "# create L/S value portfolios\n",
    "aqr_df['US_Eqty_Value_LS'] = aqr_df.loc[:,'VAL3US'] - aqr_df.loc[:,'VAL1US']\n",
    "aqr_df['UK_Eqty_Value_LS'] = aqr_df.loc[:,'VAL3UK'] - aqr_df.loc[:,'VAL1UK']\n",
    "aqr_df['EU_Eqty_Value_LS'] = aqr_df.loc[:,'VAL3EU'] - aqr_df.loc[:,'VAL1EU']\n",
    "aqr_df['JP_Eqty_Value_LS'] = aqr_df.loc[:,'VAL3JP'] - aqr_df.loc[:,'VAL1JP']\n",
    "aqr_df['EQ_Value_LS'] = aqr_df.loc[:,'VAL3_VME_EQ'] - aqr_df.loc[:,'VAL1_VME_EQ']\n",
    "aqr_df['FX_Value_LS'] = aqr_df.loc[:,'VAL3_VME_FX'] - aqr_df.loc[:,'VAL1_VME_FX']\n",
    "aqr_df['FI_Value_LS'] = aqr_df.loc[:,'VAL3_VME_FI'] - aqr_df.loc[:,'VAL1_VME_FI']\n",
    "aqr_df['COM_Value_LS'] = aqr_df.loc[:,'VAL3_VME_COM'] - aqr_df.loc[:,'VAL1_VME_COM']"
   ]
  },
  {
   "cell_type": "code",
   "execution_count": null,
   "id": "4a228dca",
   "metadata": {},
   "outputs": [],
   "source": [
    "value_ts_ret.columns"
   ]
  },
  {
   "cell_type": "code",
   "execution_count": null,
   "id": "a0382288",
   "metadata": {},
   "outputs": [],
   "source": [
    "# add crypto value factor\n",
    "aqr_df['Crypto_Value_TS_LS'] = value_ts_ret[['nvm_ratio_aa30', 'nvm_ratio_an30', 'nvt_ratio_30', \n",
    "                                             'nvt_ratio_adj30', 'nvt_ratio_cnt30']].mean(axis=1).resample('M').sum()\n",
    "aqr_df['Crypto_Value_CS_LS'] = value_cs_ret[['nvm_ratio_aa30', 'nvm_ratio_an30', 'nvt_ratio_30', 'nvt_ratio_adj30', \n",
    "                                             'nvt_ratio_cnt30']].mean(axis=1).resample('M').sum()\n",
    "aqr_df['mkt_ret'] = mkt_ret_mw.resample('M').sum()"
   ]
  },
  {
   "cell_type": "code",
   "execution_count": null,
   "id": "2c06e7fc",
   "metadata": {},
   "outputs": [],
   "source": [
    "# target vol\n",
    "aqr_norm_df = Transform(aqr_df).target_vol(ann_vol=0.1, ann_factor=12)"
   ]
  },
  {
   "cell_type": "code",
   "execution_count": null,
   "id": "bdb6590f",
   "metadata": {},
   "outputs": [],
   "source": [
    "Performance(aqr_norm_df.loc[:,'US_Eqty_Value_LS':'Crypto_Value_CS_LS'].dropna(), mkt_ret=aqr_df.mkt_ret, ret_type='log').plot_metric()"
   ]
  },
  {
   "cell_type": "code",
   "execution_count": null,
   "id": "ba29d58c",
   "metadata": {},
   "outputs": [],
   "source": [
    "value_table = Performance(aqr_norm_df.loc[:,'US_Eqty_Value_LS':'Crypto_Value_CS_LS'], mkt_ret=aqr_norm_df.mkt_ret, ann_factor=12).table(rank_on='Sharpe ratio', metrics='key_metrics')"
   ]
  },
  {
   "cell_type": "code",
   "execution_count": null,
   "id": "592f23fc",
   "metadata": {},
   "outputs": [],
   "source": [
    "value_table"
   ]
  },
  {
   "cell_type": "code",
   "execution_count": null,
   "id": "dba27b02",
   "metadata": {},
   "outputs": [],
   "source": [
    "publish_table(value_table, title='Performance - Value Everywhere', reset_index=True)"
   ]
  },
  {
   "cell_type": "code",
   "execution_count": null,
   "id": "81fb27a9",
   "metadata": {},
   "outputs": [],
   "source": [
    "corr_df = aqr_df.loc[:,'US_Eqty_Value_LS':].corr()"
   ]
  },
  {
   "cell_type": "code",
   "execution_count": null,
   "id": "74fd559a",
   "metadata": {},
   "outputs": [],
   "source": [
    "# create correlation heatmap\n",
    "# set plot style, font and colors\n",
    "plt.style.use('seaborn')\n",
    "plt.rcParams['font.family'] = 'georgia'\n",
    "fig = plt.figure(figsize=(15,15))\n",
    "sns.despine(left=True)\n",
    "\n",
    "heatmap = sns.heatmap(corr_df, cmap=\"vlag_r\", annot=True, vmin=-1, vmax=1, xticklabels=corr_df.columns, yticklabels=corr_df.columns, square=True)\n",
    "heatmap.set_title('Correlation Heatmap - Value Everywhere', fontdict={'fontsize':15}, pad=20, weight='bold')\n",
    "bottom, top = heatmap.get_ylim()\n",
    "heatmap.set_ylim(bottom + 0.5, top - 0.5);"
   ]
  },
  {
   "cell_type": "markdown",
   "id": "5c11127c",
   "metadata": {},
   "source": [
    "# Market Valuation"
   ]
  },
  {
   "cell_type": "code",
   "execution_count": null,
   "id": "82fdc2f8",
   "metadata": {},
   "outputs": [],
   "source": [
    "# market ret and NVM ratio\n",
    "mkt_value_df = value_z_df[['nvm_ratio_an30']].mean(axis=1).groupby('date').mean().to_frame('NVM_ratio')\n",
    "mkt_value_df = pd.concat([mkt_value_df, mkt_ret_mw.cumsum()], axis=1).replace(0, np.nan).dropna()"
   ]
  },
  {
   "cell_type": "code",
   "execution_count": null,
   "id": "afa26f91",
   "metadata": {},
   "outputs": [],
   "source": [
    "# plot market ret and NVM ratio\n",
    "fig, axes = plt.subplots(nrows=2, figsize=(15,10))\n",
    "\n",
    "mkt_value_df['mkt_ret'].plot(\n",
    "    linewidth=1,\n",
    "    color='#006BA2',\n",
    "    ax=axes[0])\n",
    "\n",
    "mkt_value_df['NVM_ratio'].plot(\n",
    "    kind='bar', \n",
    "    ax=axes[1], \n",
    "    width=2,\n",
    "    color='#DB444B')\n",
    "\n",
    "# font\n",
    "plt.rcParams['font.family'] = 'georgia'\n",
    "\n",
    "# grid\n",
    "for i in range(0,2):\n",
    "    axes[i].grid(which=\"major\", axis='y', color='#758D99', alpha=0.6, zorder=1)\n",
    "    axes[i].set_facecolor(\"whitesmoke\")\n",
    "    axes[i].spines[['top', 'right', 'left']].set_visible(False)\n",
    "    \n",
    "# Reformat y-axis tick labels\n",
    "axes[0].set_ylabel('Cumulative returns')\n",
    "axes[0].yaxis.tick_right()\n",
    "axes[1].set_ylabel('NVM Ratio (z-score)')\n",
    "axes[1].yaxis.tick_right()\n",
    "\n",
    "# add systamental logo\n",
    "img = Image.open('../src/factorlab/systamental_logo.png')\n",
    "plt.figimage(img, origin='upper')\n",
    "\n",
    "# Add in title and subtitle\n",
    "axes[0].text(x=0.13, y=.92, s=f\"Cryptoassets are no longer expensive relative to network fundamentals\", transform=fig.transFigure, ha='left', fontsize=14,\n",
    "        weight='bold', alpha=.8, fontdict=None)\n",
    "\n",
    "sub_title = f\"Crypto market portfolio (market-cap weighted) vs. NVM ratio (new addresses)\"\n",
    "axes[0].text(x=0.13, y=.89, s=sub_title, transform=fig.transFigure, ha='left', fontsize=12, alpha=.8,\n",
    "        fontdict=None);\n",
    "\n",
    "# show every Nth label\n",
    "locs, labels = plt.xticks()\n",
    "N = 365\n",
    "plt.xticks(locs[::N], mkt_value_df.index[::N].strftime('%Y'), rotation=0)\n",
    "\n",
    "# add over/undervaluation text\n",
    "axes[1].text(0.95, .8, 'Undervalued', horizontalalignment='right', verticalalignment='bottom', transform=axes[1].transAxes)\n",
    "axes[1].text(0.95, .05, 'Overvalued', horizontalalignment='right', verticalalignment='bottom', transform=axes[1].transAxes);"
   ]
  },
  {
   "cell_type": "code",
   "execution_count": null,
   "id": "fb2e4ce3",
   "metadata": {},
   "outputs": [],
   "source": [
    "# market value comp\n",
    "value_comp_z_df = value_z_df[['nvm_ratio_an30']].mean(axis=1)\n",
    "mkt_value_comp_z_df = value_comp_z_df.groupby('date').mean().to_frame('NVM_ratio')\n",
    "mkt_value_comp_z_df['ticker'] = 'crypto_mkt'\n",
    "mkt_value_comp_z_df = mkt_value_comp_z_df.reset_index().set_index(['date', 'ticker'])"
   ]
  },
  {
   "cell_type": "code",
   "execution_count": null,
   "id": "435438b5",
   "metadata": {},
   "outputs": [],
   "source": [
    "# fwd mkt rets\n",
    "fwd_mkt_ret = fwd_spot_ret.groupby('date').mean()\n",
    "fwd_mkt_ret['ticker'] = 'crypto_mkt'\n",
    "fwd_mkt_ret = fwd_mkt_ret.reset_index().set_index(['date', 'ticker'])"
   ]
  },
  {
   "cell_type": "code",
   "execution_count": null,
   "id": "7166d108",
   "metadata": {},
   "outputs": [],
   "source": [
    "quantile_ts_ret = Factor(mkt_value_comp_z_df, fwd_mkt_ret[['fwd_ret_1', 'fwd_ret_7', 'fwd_ret_30', 'fwd_ret_90', 'fwd_ret_180']], strategy='ts_ls').ret_quantiles(factor='NVM_ratio', plot_rets=True)"
   ]
  },
  {
   "cell_type": "markdown",
   "id": "b157d620",
   "metadata": {},
   "source": [
    "# Crypto Valuation Dashboard"
   ]
  },
  {
   "cell_type": "code",
   "execution_count": null,
   "id": "b7aa4895",
   "metadata": {},
   "outputs": [],
   "source": [
    "fig, ax = plt.subplots(figsize=(15,10))\n",
    "\n",
    "value_comp_z_df.unstack().iloc[-1].dropna().sort_values().plot(kind='barh', figsize=(15,10), color='#5DA4DF')\n",
    "\n",
    "# font\n",
    "plt.rcParams['font.family'] = 'georgia'\n",
    "\n",
    "# grid\n",
    "ax.grid(which=\"major\", axis='x', color='#758D99', alpha=0.6, zorder=1)\n",
    "ax.set_facecolor(\"whitesmoke\")\n",
    "ax.spines[['top', 'right', 'left']].set_visible(False)\n",
    "    \n",
    "# Reformat y-axis tick labels\n",
    "ax.set_ylabel('NVM Ratio (z-score)')\n",
    "ax.yaxis.tick_right()\n",
    "\n",
    "# add systamental logo\n",
    "img = Image.open('../src/factorlab/systamental_logo.png')\n",
    "plt.figimage(img, origin='upper')\n",
    "\n",
    "# Add in title and subtitle\n",
    "ax.text(x=0.13, y=.92, s=f\"Cryptoassets Valuations\", transform=fig.transFigure, ha='left', fontsize=14,\n",
    "        weight='bold', alpha=.8, fontdict=None)\n",
    "\n",
    "sub_title = f\"NVM ratio (new addreses))\"\n",
    "ax.text(x=0.13, y=.89, s=sub_title, transform=fig.transFigure, ha='left', fontsize=12, alpha=.8,\n",
    "        fontdict=None);"
   ]
  }
 ],
 "metadata": {
  "kernelspec": {
   "display_name": "factorlab",
   "language": "python",
   "name": "factorlab"
  },
  "language_info": {
   "codemirror_mode": {
    "name": "ipython",
    "version": 3
   },
   "file_extension": ".py",
   "mimetype": "text/x-python",
   "name": "python",
   "nbconvert_exporter": "python",
   "pygments_lexer": "ipython3",
   "version": "3.9.13"
  },
  "toc": {
   "base_numbering": 1,
   "nav_menu": {},
   "number_sections": true,
   "sideBar": true,
   "skip_h1_title": false,
   "title_cell": "Table of Contents",
   "title_sidebar": "Contents",
   "toc_cell": false,
   "toc_position": {},
   "toc_section_display": true,
   "toc_window_display": false
  }
 },
 "nbformat": 4,
 "nbformat_minor": 5
}
